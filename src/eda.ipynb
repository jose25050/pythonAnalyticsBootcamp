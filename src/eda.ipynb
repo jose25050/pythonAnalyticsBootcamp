{
 "cells": [
  {
   "cell_type": "markdown",
   "metadata": {},
   "source": [
    "## Hola soy un notebook de python de práctica"
   ]
  },
  {
   "cell_type": "code",
   "execution_count": 24,
   "metadata": {},
   "outputs": [],
   "source": [
    "%matplotlib inline"
   ]
  },
  {
   "cell_type": "code",
   "execution_count": 2,
   "metadata": {},
   "outputs": [],
   "source": [
    "import pandas as pd\n",
    "import numpy as np\n",
    "import matplotlib.pyplot as plt\n",
    "import pandas_profiling as ppr\n",
    "import seaborn as sns\n",
    "import geopandas as gpd"
   ]
  },
  {
   "cell_type": "code",
   "execution_count": 3,
   "metadata": {},
   "outputs": [],
   "source": [
    "## Leemos los datos seleccionados\n",
    "df_main = pd.read_csv('../data/TB_HOSP_VAC_FALLECIDOS.csv')\n",
    "df_oxigen = pd.read_csv('../data/Oxigeno_25-10-2021.csv', sep=\"|\")\n",
    "df_camas = pd.read_csv('../data/Camas-08_03_2022.csv', sep=\"|\")"
   ]
  },
  {
   "cell_type": "code",
   "execution_count": 4,
   "metadata": {},
   "outputs": [
    {
     "data": {
      "text/plain": [
       "(135958, 136422)"
      ]
     },
     "execution_count": 4,
     "metadata": {},
     "output_type": "execute_result"
    }
   ],
   "source": [
    "# Validar integridad del identificador único\n",
    "len(df_main['id_persona'].unique()), df_main.shape[0]"
   ]
  },
  {
   "cell_type": "code",
   "execution_count": 8,
   "metadata": {},
   "outputs": [
    {
     "data": {
      "text/plain": [
       "0"
      ]
     },
     "execution_count": 8,
     "metadata": {},
     "output_type": "execute_result"
    }
   ],
   "source": [
    "df_main['id_persona'].isna().sum()"
   ]
  },
  {
   "cell_type": "code",
   "execution_count": 5,
   "metadata": {},
   "outputs": [
    {
     "data": {
      "text/plain": [
       "26422634    3\n",
       "6054506     3\n",
       "29048330    3\n",
       "3820273     2\n",
       "9985143     2\n",
       "Name: id_persona, dtype: int64"
      ]
     },
     "execution_count": 5,
     "metadata": {},
     "output_type": "execute_result"
    }
   ],
   "source": [
    "## conteo de cuantas veces se duplica los id_persona\n",
    "filtro_duplicados = df_main['id_persona'].duplicated(keep=False)\n",
    "df_main[filtro_duplicados]['id_persona'].value_counts().head()"
   ]
  },
  {
   "cell_type": "code",
   "execution_count": 10,
   "metadata": {},
   "outputs": [],
   "source": [
    "# TODO: Crear variable si fue reinfeccion (0, 1)\n",
    "# TODO: Crear variable si con el # de la reinfeccion (1, 2, 3, etc)"
   ]
  },
  {
   "cell_type": "code",
   "execution_count": 6,
   "metadata": {},
   "outputs": [
    {
     "name": "stdout",
     "output_type": "stream",
     "text": [
      "7843\n",
      "5.75 %\n"
     ]
    }
   ],
   "source": [
    "## Número de valores perdidos\n",
    "edad_na_count = df_main['edad'].isna().sum()\n",
    "print(edad_na_count)\n",
    "print(round(edad_na_count / df_main.shape[0] * 100, 2), '%')"
   ]
  },
  {
   "cell_type": "code",
   "execution_count": 12,
   "metadata": {},
   "outputs": [
    {
     "data": {
      "image/png": "[encoded data removed]",
      "text/plain": [
       "<Figure size 432x288 with 1 Axes>"
      ]
     },
     "metadata": {
      "needs_background": "light"
     },
     "output_type": "display_data"
    }
   ],
   "source": [
    "df_main['edad'].hist()\n",
    "plt.show()"
   ]
  },
  {
   "cell_type": "code",
   "execution_count": 13,
   "metadata": {},
   "outputs": [
    {
     "data": {
      "text/plain": [
       "count    128579.000000\n",
       "mean         52.179446\n",
       "std          20.436026\n",
       "min           0.000000\n",
       "25%          37.000000\n",
       "50%          54.000000\n",
       "75%          68.000000\n",
       "max         111.000000\n",
       "Name: edad, dtype: float64"
      ]
     },
     "execution_count": 13,
     "metadata": {},
     "output_type": "execute_result"
    }
   ],
   "source": [
    "df_main[\"edad\"].describe()"
   ]
  },
  {
   "cell_type": "code",
   "execution_count": 14,
   "metadata": {},
   "outputs": [
    {
     "data": {
      "text/plain": [
       "array([  0.        ,  15.85714286,  31.71428571,  47.57142857,\n",
       "        63.42857143,  79.28571429,  95.14285714, 111.        ])"
      ]
     },
     "execution_count": 14,
     "metadata": {},
     "output_type": "execute_result"
    }
   ],
   "source": [
    "counts, bins = np.histogram(df_main[\"edad\"].dropna().values,bins = 7)\n",
    "bins"
   ]
  },
  {
   "cell_type": "code",
   "execution_count": 7,
   "metadata": {},
   "outputs": [
    {
     "data": {
      "text/plain": [
       "(40, 55]     29595\n",
       "(65, 80]     26201\n",
       "(25, 40]     25404\n",
       "(55, 65]     23376\n",
       "(80, 95]      9954\n",
       "(18, 25]      7492\n",
       "(5, 13]       2197\n",
       "(13, 18]      1938\n",
       "(0, 5]        1926\n",
       "(95, 112]      451\n",
       "Name: edad, dtype: int64"
      ]
     },
     "execution_count": 7,
     "metadata": {},
     "output_type": "execute_result"
    }
   ],
   "source": [
    "edad_bins = pd.cut(df_main[\"edad\"], bins = [0,5,13,18,25,40,55,65,80,95,112])\n",
    "\n",
    "edad_bins_counts = edad_bins.value_counts()\n",
    "\n",
    "edad_bins_counts\n"
   ]
  },
  {
   "cell_type": "code",
   "execution_count": 8,
   "metadata": {},
   "outputs": [],
   "source": [
    "df_main[\"edad_bins\"] = edad_bins"
   ]
  },
  {
   "cell_type": "code",
   "execution_count": 9,
   "metadata": {},
   "outputs": [
    {
     "data": {
      "text/plain": [
       "0.05013854070457844"
      ]
     },
     "execution_count": 9,
     "metadata": {},
     "output_type": "execute_result"
    }
   ],
   "source": [
    "df_main[\"sexo\"].isna().sum() / df_main.shape[0]"
   ]
  },
  {
   "cell_type": "code",
   "execution_count": 10,
   "metadata": {},
   "outputs": [
    {
     "data": {
      "text/plain": [
       "(M    69149\n",
       " F    60433\n",
       " Name: sexo, dtype: int64,\n",
       " M    0.533631\n",
       " F    0.466369\n",
       " Name: sexo, dtype: float64)"
      ]
     },
     "execution_count": 10,
     "metadata": {},
     "output_type": "execute_result"
    }
   ],
   "source": [
    "df_main[\"sexo\"].value_counts(), df_main[\"sexo\"].value_counts(normalize= True)"
   ]
  },
  {
   "cell_type": "code",
   "execution_count": 11,
   "metadata": {},
   "outputs": [
    {
     "data": {
      "text/plain": [
       "edad_bins  sexo\n",
       "(0, 5]     F         850\n",
       "           M        1076\n",
       "(5, 13]    F         927\n",
       "           M        1270\n",
       "(13, 18]   F        1310\n",
       "           M         628\n",
       "(18, 25]   F        5866\n",
       "           M        1597\n",
       "(25, 40]   F       15891\n",
       "           M        9303\n",
       "(40, 55]   F       11255\n",
       "           M       18232\n",
       "(55, 65]   F        8820\n",
       "           M       14509\n",
       "(65, 80]   F       10327\n",
       "           M       15849\n",
       "(80, 95]   F        4383\n",
       "           M        5567\n",
       "(95, 112]  F         242\n",
       "           M         209\n",
       "dtype: int64"
      ]
     },
     "execution_count": 11,
     "metadata": {},
     "output_type": "execute_result"
    }
   ],
   "source": [
    "conteo_edad_x_sexo = (df_main[[\"edad_bins\",\"sexo\"]].dropna() ## selecion de columns y elimino NaNs\n",
    "                    .groupby([\"edad_bins\",\"sexo\"]).size() )# agrupo y cuento las obs. por intervalo de edad y sexo\n",
    "\n",
    "conteo_edad_x_sexo\n"
   ]
  },
  {
   "cell_type": "code",
   "execution_count": 20,
   "metadata": {},
   "outputs": [
    {
     "data": {
      "text/plain": [
       "<seaborn.axisgrid.FacetGrid at 0x235db55cc10>"
      ]
     },
     "execution_count": 20,
     "metadata": {},
     "output_type": "execute_result"
    },
    {
     "data": {
      "image/png": "[encoded data removed]",
      "text/plain": [
       "<Figure size 476.625x432 with 1 Axes>"
      ]
     },
     "metadata": {
      "needs_background": "light"
     },
     "output_type": "display_data"
    }
   ],
   "source": [
    "## gráfica de barras de cantidad de personas por intervalo de edad por género\n",
    "\n",
    "g = sns.catplot(\n",
    "    data=conteo_edad_x_sexo.reset_index().rename(columns={0: \"conteo\"}),\n",
    "     kind=\"bar\",\n",
    "    x=\"edad_bins\", y=\"conteo\", hue=\"sexo\",\n",
    "    ci=\"sd\", palette=\"dark\", alpha=.6, height=6\n",
    ")\n",
    "g.set_xticklabels(rotation = 90)"
   ]
  },
  {
   "cell_type": "code",
   "execution_count": 12,
   "metadata": {},
   "outputs": [
    {
     "data": {
      "text/plain": [
       "ubigeo_inei_domicilio    0\n",
       "dep_domicilio            0\n",
       "prov_domicilio           0\n",
       "dist_domicilio           0\n",
       "dtype: int64"
      ]
     },
     "execution_count": 12,
     "metadata": {},
     "output_type": "execute_result"
    }
   ],
   "source": [
    "geo_vars = ['ubigeo_inei_domicilio', 'dep_domicilio', 'prov_domicilio',\n",
    "       'dist_domicilio']\n",
    "df_main[geo_vars].isna().sum()"
   ]
  },
  {
   "cell_type": "code",
   "execution_count": 13,
   "metadata": {},
   "outputs": [],
   "source": [
    "df_main['ubigeo_inei_domicilio'] = df_main['ubigeo_inei_domicilio'].astype(str)"
   ]
  },
  {
   "cell_type": "code",
   "execution_count": 14,
   "metadata": {},
   "outputs": [
    {
     "data": {
      "text/plain": [
       "ubigeo_inei_domicilio    object\n",
       "dep_domicilio            object\n",
       "prov_domicilio           object\n",
       "dist_domicilio           object\n",
       "dtype: object"
      ]
     },
     "execution_count": 14,
     "metadata": {},
     "output_type": "execute_result"
    }
   ],
   "source": [
    "df_main[geo_vars].dtypes"
   ]
  },
  {
   "cell_type": "code",
   "execution_count": 15,
   "metadata": {},
   "outputs": [
    {
     "data": {
      "text/html": [
       "<div>\n",
       "<style scoped>\n",
       "    .dataframe tbody tr th:only-of-type {\n",
       "        vertical-align: middle;\n",
       "    }\n",
       "\n",
       "    .dataframe tbody tr th {\n",
       "        vertical-align: top;\n",
       "    }\n",
       "\n",
       "    .dataframe thead th {\n",
       "        text-align: right;\n",
       "    }\n",
       "</style>\n",
       "<table border=\"1\" class=\"dataframe\">\n",
       "  <thead>\n",
       "    <tr style=\"text-align: right;\">\n",
       "      <th></th>\n",
       "      <th>ubigeo_inei_domicilio</th>\n",
       "      <th>dep_domicilio</th>\n",
       "      <th>prov_domicilio</th>\n",
       "      <th>dist_domicilio</th>\n",
       "    </tr>\n",
       "  </thead>\n",
       "  <tbody>\n",
       "    <tr>\n",
       "      <th>count</th>\n",
       "      <td>136422</td>\n",
       "      <td>136422</td>\n",
       "      <td>136422</td>\n",
       "      <td>136422</td>\n",
       "    </tr>\n",
       "    <tr>\n",
       "      <th>unique</th>\n",
       "      <td>1716</td>\n",
       "      <td>25</td>\n",
       "      <td>196</td>\n",
       "      <td>1580</td>\n",
       "    </tr>\n",
       "    <tr>\n",
       "      <th>top</th>\n",
       "      <td>150142</td>\n",
       "      <td>LIMA</td>\n",
       "      <td>LIMA</td>\n",
       "      <td>VILLA EL SALVADOR</td>\n",
       "    </tr>\n",
       "    <tr>\n",
       "      <th>freq</th>\n",
       "      <td>7156</td>\n",
       "      <td>50719</td>\n",
       "      <td>46309</td>\n",
       "      <td>7156</td>\n",
       "    </tr>\n",
       "  </tbody>\n",
       "</table>\n",
       "</div>"
      ],
      "text/plain": [
       "       ubigeo_inei_domicilio dep_domicilio prov_domicilio     dist_domicilio\n",
       "count                 136422        136422         136422             136422\n",
       "unique                  1716            25            196               1580\n",
       "top                   150142          LIMA           LIMA  VILLA EL SALVADOR\n",
       "freq                    7156         50719          46309               7156"
      ]
     },
     "execution_count": 15,
     "metadata": {},
     "output_type": "execute_result"
    }
   ],
   "source": [
    "df_main[geo_vars].describe()"
   ]
  },
  {
   "cell_type": "markdown",
   "metadata": {},
   "source": [
    "**Manejando datos geoespaciales**"
   ]
  },
  {
   "cell_type": "code",
   "execution_count": 16,
   "metadata": {},
   "outputs": [],
   "source": [
    "gdf_deps = gpd.read_file('../data/departamentos/DEPARTAMENTOS.shp')"
   ]
  },
  {
   "cell_type": "code",
   "execution_count": 26,
   "metadata": {},
   "outputs": [
    {
     "data": {
      "text/plain": [
       "<AxesSubplot:>"
      ]
     },
     "execution_count": 26,
     "metadata": {},
     "output_type": "execute_result"
    },
    {
     "data": {
      "image/png": "[encoded data removed]",
      "text/plain": [
       "<Figure size 432x288 with 1 Axes>"
      ]
     },
     "metadata": {
      "needs_background": "light"
     },
     "output_type": "display_data"
    }
   ],
   "source": [
    "## creando un plot del mapa\n",
    "gdf_deps.plot()"
   ]
  },
  {
   "cell_type": "code",
   "execution_count": 18,
   "metadata": {},
   "outputs": [
    {
     "data": {
      "text/plain": [
       "Index(['IDDPTO', 'DEPARTAMEN', 'CAPITAL', 'FUENTE', 'geometry'], dtype='object')"
      ]
     },
     "execution_count": 18,
     "metadata": {},
     "output_type": "execute_result"
    }
   ],
   "source": [
    "gdf_deps.columns"
   ]
  },
  {
   "cell_type": "code",
   "execution_count": 19,
   "metadata": {},
   "outputs": [
    {
     "data": {
      "text/plain": [
       "True"
      ]
     },
     "execution_count": 19,
     "metadata": {},
     "output_type": "execute_result"
    }
   ],
   "source": [
    "## analizando si tienen la misma llave mi base de datos y el del shapefile\n",
    "df_unique_dep = df_main['dep_domicilio'].unique()\n",
    "df_unique_dep.sort()\n",
    "\n",
    "gdf_unique_dep = gdf_deps['DEPARTAMEN'].unique()\n",
    "gdf_unique_dep.sort()\n",
    "\n",
    "# VALIDAMOS QUE LOS NOMBRES DE DEPARTAMENTOS\n",
    "# EN LOS DOS DATASETS SEAN IGUALES\n",
    "(df_unique_dep == gdf_unique_dep).all() # True"
   ]
  },
  {
   "cell_type": "code",
   "execution_count": 20,
   "metadata": {},
   "outputs": [
    {
     "data": {
      "text/html": [
       "<div>\n",
       "<style scoped>\n",
       "    .dataframe tbody tr th:only-of-type {\n",
       "        vertical-align: middle;\n",
       "    }\n",
       "\n",
       "    .dataframe tbody tr th {\n",
       "        vertical-align: top;\n",
       "    }\n",
       "\n",
       "    .dataframe thead th {\n",
       "        text-align: right;\n",
       "    }\n",
       "</style>\n",
       "<table border=\"1\" class=\"dataframe\">\n",
       "  <thead>\n",
       "    <tr style=\"text-align: right;\">\n",
       "      <th></th>\n",
       "      <th>index</th>\n",
       "      <th>dep_domicilio</th>\n",
       "    </tr>\n",
       "  </thead>\n",
       "  <tbody>\n",
       "    <tr>\n",
       "      <th>0</th>\n",
       "      <td>LIMA</td>\n",
       "      <td>50719</td>\n",
       "    </tr>\n",
       "    <tr>\n",
       "      <th>1</th>\n",
       "      <td>ANCASH</td>\n",
       "      <td>11753</td>\n",
       "    </tr>\n",
       "    <tr>\n",
       "      <th>2</th>\n",
       "      <td>CUSCO</td>\n",
       "      <td>10952</td>\n",
       "    </tr>\n",
       "    <tr>\n",
       "      <th>3</th>\n",
       "      <td>CAJAMARCA</td>\n",
       "      <td>8584</td>\n",
       "    </tr>\n",
       "    <tr>\n",
       "      <th>4</th>\n",
       "      <td>PIURA</td>\n",
       "      <td>7909</td>\n",
       "    </tr>\n",
       "  </tbody>\n",
       "</table>\n",
       "</div>"
      ],
      "text/plain": [
       "       index  dep_domicilio\n",
       "0       LIMA          50719\n",
       "1     ANCASH          11753\n",
       "2      CUSCO          10952\n",
       "3  CAJAMARCA           8584\n",
       "4      PIURA           7909"
      ]
     },
     "execution_count": 20,
     "metadata": {},
     "output_type": "execute_result"
    }
   ],
   "source": [
    "# Contamos la cantidad de hospitalizados por departamento\n",
    "conteo_x_dept = df_main['dep_domicilio'].value_counts()\n",
    "conteo_x_dept = conteo_x_dept.reset_index()\n",
    "conteo_x_dept.head()"
   ]
  },
  {
   "cell_type": "code",
   "execution_count": 21,
   "metadata": {},
   "outputs": [],
   "source": [
    "# Unimos los conteos utilizando los nombres de departamentos\n",
    "gdf_conteo_x_dept = pd.merge(left=gdf_deps, right=conteo_x_dept, \n",
    "                             left_on=\"DEPARTAMEN\", right_on='index')"
   ]
  },
  {
   "cell_type": "code",
   "execution_count": 22,
   "metadata": {},
   "outputs": [
    {
     "data": {
      "text/html": [
       "<div>\n",
       "<style scoped>\n",
       "    .dataframe tbody tr th:only-of-type {\n",
       "        vertical-align: middle;\n",
       "    }\n",
       "\n",
       "    .dataframe tbody tr th {\n",
       "        vertical-align: top;\n",
       "    }\n",
       "\n",
       "    .dataframe thead th {\n",
       "        text-align: right;\n",
       "    }\n",
       "</style>\n",
       "<table border=\"1\" class=\"dataframe\">\n",
       "  <thead>\n",
       "    <tr style=\"text-align: right;\">\n",
       "      <th></th>\n",
       "      <th>IDDPTO</th>\n",
       "      <th>DEPARTAMEN</th>\n",
       "      <th>CAPITAL</th>\n",
       "      <th>FUENTE</th>\n",
       "      <th>geometry</th>\n",
       "      <th>index</th>\n",
       "      <th>dep_domicilio</th>\n",
       "    </tr>\n",
       "  </thead>\n",
       "  <tbody>\n",
       "    <tr>\n",
       "      <th>0</th>\n",
       "      <td>01</td>\n",
       "      <td>AMAZONAS</td>\n",
       "      <td>CHACHAPOYAS</td>\n",
       "      <td>INEI</td>\n",
       "      <td>POLYGON ((-77.81211 -2.98962, -77.81332 -2.990...</td>\n",
       "      <td>AMAZONAS</td>\n",
       "      <td>1833</td>\n",
       "    </tr>\n",
       "    <tr>\n",
       "      <th>1</th>\n",
       "      <td>02</td>\n",
       "      <td>ANCASH</td>\n",
       "      <td>HUARAZ</td>\n",
       "      <td>INEI</td>\n",
       "      <td>POLYGON ((-77.64692 -8.05086, -77.64669 -8.052...</td>\n",
       "      <td>ANCASH</td>\n",
       "      <td>11753</td>\n",
       "    </tr>\n",
       "    <tr>\n",
       "      <th>2</th>\n",
       "      <td>03</td>\n",
       "      <td>APURIMAC</td>\n",
       "      <td>ABANCAY</td>\n",
       "      <td>INEI</td>\n",
       "      <td>POLYGON ((-73.74632 -13.17456, -73.74570 -13.1...</td>\n",
       "      <td>APURIMAC</td>\n",
       "      <td>2778</td>\n",
       "    </tr>\n",
       "    <tr>\n",
       "      <th>3</th>\n",
       "      <td>04</td>\n",
       "      <td>AREQUIPA</td>\n",
       "      <td>AREQUIPA</td>\n",
       "      <td>INEI</td>\n",
       "      <td>POLYGON ((-71.98109 -14.64062, -71.98093 -14.6...</td>\n",
       "      <td>AREQUIPA</td>\n",
       "      <td>490</td>\n",
       "    </tr>\n",
       "    <tr>\n",
       "      <th>4</th>\n",
       "      <td>05</td>\n",
       "      <td>AYACUCHO</td>\n",
       "      <td>AYACUCHO</td>\n",
       "      <td>INEI</td>\n",
       "      <td>POLYGON ((-74.34843 -12.17503, -74.35000 -12.1...</td>\n",
       "      <td>AYACUCHO</td>\n",
       "      <td>627</td>\n",
       "    </tr>\n",
       "  </tbody>\n",
       "</table>\n",
       "</div>"
      ],
      "text/plain": [
       "  IDDPTO DEPARTAMEN      CAPITAL FUENTE  \\\n",
       "0     01   AMAZONAS  CHACHAPOYAS   INEI   \n",
       "1     02     ANCASH       HUARAZ   INEI   \n",
       "2     03   APURIMAC      ABANCAY   INEI   \n",
       "3     04   AREQUIPA     AREQUIPA   INEI   \n",
       "4     05   AYACUCHO     AYACUCHO   INEI   \n",
       "\n",
       "                                            geometry     index  dep_domicilio  \n",
       "0  POLYGON ((-77.81211 -2.98962, -77.81332 -2.990...  AMAZONAS           1833  \n",
       "1  POLYGON ((-77.64692 -8.05086, -77.64669 -8.052...    ANCASH          11753  \n",
       "2  POLYGON ((-73.74632 -13.17456, -73.74570 -13.1...  APURIMAC           2778  \n",
       "3  POLYGON ((-71.98109 -14.64062, -71.98093 -14.6...  AREQUIPA            490  \n",
       "4  POLYGON ((-74.34843 -12.17503, -74.35000 -12.1...  AYACUCHO            627  "
      ]
     },
     "execution_count": 22,
     "metadata": {},
     "output_type": "execute_result"
    }
   ],
   "source": [
    "gdf_conteo_x_dept.head()"
   ]
  },
  {
   "cell_type": "code",
   "execution_count": 25,
   "metadata": {},
   "outputs": [
    {
     "data": {
      "text/plain": [
       "<AxesSubplot:>"
      ]
     },
     "execution_count": 25,
     "metadata": {},
     "output_type": "execute_result"
    },
    {
     "data": {
      "image/png": "[encoded data removed]",
      "text/plain": [
       "<Figure size 432x288 with 2 Axes>"
      ]
     },
     "metadata": {
      "needs_background": "light"
     },
     "output_type": "display_data"
    }
   ],
   "source": [
    "# Mapa de calor de # de hospitalizados x departamento\n",
    "gdf_conteo_x_dept.plot(\"dep_domicilio\", cmap='viridis',\n",
    "                       legend=True)"
   ]
  },
  {
   "cell_type": "markdown",
   "metadata": {},
   "source": [
    "## Correlación\n",
    "\n",
    "Es el valor numérico que describle la relación ( directa o inversa) entre dos variables, pero solo la forma **lineal**. Es decir, un correlación no indica que no existe relación entre las variables, sino que no presenta una relación lineal."
   ]
  },
  {
   "cell_type": "code",
   "execution_count": 39,
   "metadata": {},
   "outputs": [
    {
     "data": {
      "text/plain": [
       "array([[1.        , 0.02111353],\n",
       "       [0.02111353, 1.        ]])"
      ]
     },
     "execution_count": 39,
     "metadata": {},
     "output_type": "execute_result"
    }
   ],
   "source": [
    "np.corrcoef(df_main[\"eess_renaes\"],df_main[\"flag_uci\"])"
   ]
  },
  {
   "cell_type": "code",
   "execution_count": 27,
   "metadata": {},
   "outputs": [
    {
     "data": {
      "text/html": [
       "<div>\n",
       "<style scoped>\n",
       "    .dataframe tbody tr th:only-of-type {\n",
       "        vertical-align: middle;\n",
       "    }\n",
       "\n",
       "    .dataframe tbody tr th {\n",
       "        vertical-align: top;\n",
       "    }\n",
       "\n",
       "    .dataframe thead th {\n",
       "        text-align: right;\n",
       "    }\n",
       "</style>\n",
       "<table border=\"1\" class=\"dataframe\">\n",
       "  <thead>\n",
       "    <tr style=\"text-align: right;\">\n",
       "      <th></th>\n",
       "      <th>eess_renaes</th>\n",
       "      <th>id_eess</th>\n",
       "      <th>id_persona</th>\n",
       "      <th>edad</th>\n",
       "      <th>flag_uci</th>\n",
       "      <th>con_oxigeno</th>\n",
       "      <th>con_ventilacion</th>\n",
       "      <th>flag_vacuna</th>\n",
       "      <th>cdc_positividad</th>\n",
       "      <th>cdc_fallecido_covid</th>\n",
       "    </tr>\n",
       "  </thead>\n",
       "  <tbody>\n",
       "    <tr>\n",
       "      <th>eess_renaes</th>\n",
       "      <td>1.000000</td>\n",
       "      <td>0.999724</td>\n",
       "      <td>0.019344</td>\n",
       "      <td>-0.115995</td>\n",
       "      <td>0.021114</td>\n",
       "      <td>-0.172506</td>\n",
       "      <td>0.049255</td>\n",
       "      <td>-0.008720</td>\n",
       "      <td>-0.189981</td>\n",
       "      <td>-0.078807</td>\n",
       "    </tr>\n",
       "    <tr>\n",
       "      <th>id_eess</th>\n",
       "      <td>0.999724</td>\n",
       "      <td>1.000000</td>\n",
       "      <td>0.020345</td>\n",
       "      <td>-0.115638</td>\n",
       "      <td>0.021211</td>\n",
       "      <td>-0.170655</td>\n",
       "      <td>0.050076</td>\n",
       "      <td>-0.009522</td>\n",
       "      <td>-0.189911</td>\n",
       "      <td>-0.077915</td>\n",
       "    </tr>\n",
       "    <tr>\n",
       "      <th>id_persona</th>\n",
       "      <td>0.019344</td>\n",
       "      <td>0.020345</td>\n",
       "      <td>1.000000</td>\n",
       "      <td>-0.115043</td>\n",
       "      <td>0.009564</td>\n",
       "      <td>-0.093752</td>\n",
       "      <td>0.003587</td>\n",
       "      <td>-0.465574</td>\n",
       "      <td>-0.126850</td>\n",
       "      <td>0.307252</td>\n",
       "    </tr>\n",
       "    <tr>\n",
       "      <th>edad</th>\n",
       "      <td>-0.115995</td>\n",
       "      <td>-0.115638</td>\n",
       "      <td>-0.115043</td>\n",
       "      <td>1.000000</td>\n",
       "      <td>0.031786</td>\n",
       "      <td>0.413115</td>\n",
       "      <td>0.023437</td>\n",
       "      <td>-0.126770</td>\n",
       "      <td>0.121101</td>\n",
       "      <td>0.418936</td>\n",
       "    </tr>\n",
       "    <tr>\n",
       "      <th>flag_uci</th>\n",
       "      <td>0.021114</td>\n",
       "      <td>0.021211</td>\n",
       "      <td>0.009564</td>\n",
       "      <td>0.031786</td>\n",
       "      <td>1.000000</td>\n",
       "      <td>0.166862</td>\n",
       "      <td>0.747212</td>\n",
       "      <td>-0.077172</td>\n",
       "      <td>0.042261</td>\n",
       "      <td>0.103393</td>\n",
       "    </tr>\n",
       "    <tr>\n",
       "      <th>con_oxigeno</th>\n",
       "      <td>-0.172506</td>\n",
       "      <td>-0.170655</td>\n",
       "      <td>-0.093752</td>\n",
       "      <td>0.413115</td>\n",
       "      <td>0.166862</td>\n",
       "      <td>1.000000</td>\n",
       "      <td>0.167074</td>\n",
       "      <td>-0.045013</td>\n",
       "      <td>0.193051</td>\n",
       "      <td>0.286102</td>\n",
       "    </tr>\n",
       "    <tr>\n",
       "      <th>con_ventilacion</th>\n",
       "      <td>0.049255</td>\n",
       "      <td>0.050076</td>\n",
       "      <td>0.003587</td>\n",
       "      <td>0.023437</td>\n",
       "      <td>0.747212</td>\n",
       "      <td>0.167074</td>\n",
       "      <td>1.000000</td>\n",
       "      <td>-0.083547</td>\n",
       "      <td>0.052755</td>\n",
       "      <td>0.136440</td>\n",
       "    </tr>\n",
       "    <tr>\n",
       "      <th>flag_vacuna</th>\n",
       "      <td>-0.008720</td>\n",
       "      <td>-0.009522</td>\n",
       "      <td>-0.465574</td>\n",
       "      <td>-0.126770</td>\n",
       "      <td>-0.077172</td>\n",
       "      <td>-0.045013</td>\n",
       "      <td>-0.083547</td>\n",
       "      <td>1.000000</td>\n",
       "      <td>0.095966</td>\n",
       "      <td>-0.658336</td>\n",
       "    </tr>\n",
       "    <tr>\n",
       "      <th>cdc_positividad</th>\n",
       "      <td>-0.189981</td>\n",
       "      <td>-0.189911</td>\n",
       "      <td>-0.126850</td>\n",
       "      <td>0.121101</td>\n",
       "      <td>0.042261</td>\n",
       "      <td>0.193051</td>\n",
       "      <td>0.052755</td>\n",
       "      <td>0.095966</td>\n",
       "      <td>1.000000</td>\n",
       "      <td>0.091382</td>\n",
       "    </tr>\n",
       "    <tr>\n",
       "      <th>cdc_fallecido_covid</th>\n",
       "      <td>-0.078807</td>\n",
       "      <td>-0.077915</td>\n",
       "      <td>0.307252</td>\n",
       "      <td>0.418936</td>\n",
       "      <td>0.103393</td>\n",
       "      <td>0.286102</td>\n",
       "      <td>0.136440</td>\n",
       "      <td>-0.658336</td>\n",
       "      <td>0.091382</td>\n",
       "      <td>1.000000</td>\n",
       "    </tr>\n",
       "  </tbody>\n",
       "</table>\n",
       "</div>"
      ],
      "text/plain": [
       "                     eess_renaes   id_eess  id_persona      edad  flag_uci  \\\n",
       "eess_renaes             1.000000  0.999724    0.019344 -0.115995  0.021114   \n",
       "id_eess                 0.999724  1.000000    0.020345 -0.115638  0.021211   \n",
       "id_persona              0.019344  0.020345    1.000000 -0.115043  0.009564   \n",
       "edad                   -0.115995 -0.115638   -0.115043  1.000000  0.031786   \n",
       "flag_uci                0.021114  0.021211    0.009564  0.031786  1.000000   \n",
       "con_oxigeno            -0.172506 -0.170655   -0.093752  0.413115  0.166862   \n",
       "con_ventilacion         0.049255  0.050076    0.003587  0.023437  0.747212   \n",
       "flag_vacuna            -0.008720 -0.009522   -0.465574 -0.126770 -0.077172   \n",
       "cdc_positividad        -0.189981 -0.189911   -0.126850  0.121101  0.042261   \n",
       "cdc_fallecido_covid    -0.078807 -0.077915    0.307252  0.418936  0.103393   \n",
       "\n",
       "                     con_oxigeno  con_ventilacion  flag_vacuna  \\\n",
       "eess_renaes            -0.172506         0.049255    -0.008720   \n",
       "id_eess                -0.170655         0.050076    -0.009522   \n",
       "id_persona             -0.093752         0.003587    -0.465574   \n",
       "edad                    0.413115         0.023437    -0.126770   \n",
       "flag_uci                0.166862         0.747212    -0.077172   \n",
       "con_oxigeno             1.000000         0.167074    -0.045013   \n",
       "con_ventilacion         0.167074         1.000000    -0.083547   \n",
       "flag_vacuna            -0.045013        -0.083547     1.000000   \n",
       "cdc_positividad         0.193051         0.052755     0.095966   \n",
       "cdc_fallecido_covid     0.286102         0.136440    -0.658336   \n",
       "\n",
       "                     cdc_positividad  cdc_fallecido_covid  \n",
       "eess_renaes                -0.189981            -0.078807  \n",
       "id_eess                    -0.189911            -0.077915  \n",
       "id_persona                 -0.126850             0.307252  \n",
       "edad                        0.121101             0.418936  \n",
       "flag_uci                    0.042261             0.103393  \n",
       "con_oxigeno                 0.193051             0.286102  \n",
       "con_ventilacion             0.052755             0.136440  \n",
       "flag_vacuna                 0.095966            -0.658336  \n",
       "cdc_positividad             1.000000             0.091382  \n",
       "cdc_fallecido_covid         0.091382             1.000000  "
      ]
     },
     "execution_count": 27,
     "metadata": {},
     "output_type": "execute_result"
    }
   ],
   "source": [
    "df_main.corr()"
   ]
  },
  {
   "cell_type": "code",
   "execution_count": null,
   "metadata": {},
   "outputs": [],
   "source": [
    "#construir variable tiempo de hospitalización por covid\n",
    "\n",
    "df_main[\"fecha_ingreso_hosp\"] = pd.to_datetime(df_main[\"fecha_ingreso_hosp\"],format= \"%d/%m/%Y\")\n",
    "df_main[]"
   ]
  },
  {
   "cell_type": "code",
   "execution_count": 42,
   "metadata": {},
   "outputs": [
    {
     "data": {
      "text/plain": [
       "0          1/09/2020\n",
       "1         24/02/2021\n",
       "2         14/06/2020\n",
       "3         28/05/2020\n",
       "4          6/10/2020\n",
       "             ...    \n",
       "136417     9/02/2021\n",
       "136418     1/07/2021\n",
       "136419     8/08/2020\n",
       "136420     2/04/2021\n",
       "136421     2/03/2021\n",
       "Name: fecha_ingreso_hosp, Length: 136422, dtype: object"
      ]
     },
     "execution_count": 42,
     "metadata": {},
     "output_type": "execute_result"
    }
   ],
   "source": [
    "df_main[\"fecha_ingreso_hosp\"]"
   ]
  },
  {
   "cell_type": "markdown",
   "metadata": {},
   "source": [
    "# PRPEARACIÓN ANTES DEL EDA\n",
    "## 1. selecionar las variables a analizar que sean relevantes para el estudio\n",
    "## 2. Verificar la integridad de las variables ( si estan limpias o que debemos hacer para limpiarlo)\n",
    "## 3. plantearse preguntas de exploración\n",
    "## 4. planterar hipotesis a partir de nnuestras variables\n",
    "# EDA\n",
    "## 5. limpiar los datos (80%)\n",
    "## 6. Responder las preguntas de exploración a partir de los datos ( indicadores y gráficas)\n",
    "## 7. responder las impotesis ( test estadísticos | estadisitica descriptiva)\n",
    "## 8. Generar un reporte para el público en general."
   ]
  },
  {
   "cell_type": "markdown",
   "metadata": {},
   "source": [
    "#### PREPARACIÓN ANTES DEL EDA\n",
    "\n",
    "1. selecionar las variables a analizar que sean relevantes para el estudio\n",
    "2. Verificar la integridad de las variables ( si estan limpias o que debemos hacer para limpiarlo)\n",
    "3. plantearse preguntas de exploración\n",
    "4. planterar hipotesis a partir de nnuestras variables\n",
    "\n",
    "#### EDA\n",
    "\n",
    "5. limpiar los datos (80%)\n",
    "6. Responder las preguntas de exploración a partir de los datos ( indicadores y gráficas)\n",
    "7. responder las impotesis ( test estadísticos | estadisitica descriptiva)\n",
    "8. Generar un reporte para el público en general."
   ]
  }
 ],
 "metadata": {
  "interpreter": {
   "hash": "d0acd5c8823bd9cf422a0a0eaf202009da65f19ef99d12ae9a9928c3e725c149"
  },
  "kernelspec": {
   "display_name": "proyectoAnalytics",
   "language": "python",
   "name": "proyectoanalytics"
  },
  "language_info": {
   "codemirror_mode": {
    "name": "ipython",
    "version": 3
   },
   "file_extension": ".py",
   "mimetype": "text/x-python",
   "name": "python",
   "nbconvert_exporter": "python",
   "pygments_lexer": "ipython3",
   "version": "3.8.5"
  },
  "orig_nbformat": 4
 },
 "nbformat": 4,
 "nbformat_minor": 2
}
