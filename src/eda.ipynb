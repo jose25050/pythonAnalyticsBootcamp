{
 "cells": [
  {
   "cell_type": "markdown",
   "metadata": {},
   "source": [
    "## Hola soy un notebook de python de práctica"
   ]
  },
  {
   "cell_type": "code",
   "execution_count": 2,
   "metadata": {},
   "outputs": [],
   "source": [
    "import pandas as pd\n",
    "import numpy as np\n",
    "import matplotlib.pyplot as plt\n",
    "import pandas_profiling as ppr\n",
    "import seaborn as sns\n",
    "import geopandas as gpd"
   ]
  },
  {
   "cell_type": "code",
   "execution_count": 43,
   "metadata": {},
   "outputs": [],
   "source": [
    "%matplotlib inline"
   ]
  },
  {
   "cell_type": "code",
   "execution_count": 3,
   "metadata": {},
   "outputs": [],
   "source": [
    "## Leemos los datos seleccionados\n",
    "df_main = pd.read_csv('../data/TB_HOSP_VAC_FALLECIDOS.csv')\n",
    "df_oxigen = pd.read_csv('../data/Oxigeno_25-10-2021.csv', sep=\"|\")\n",
    "df_camas = pd.read_csv('../data/Camas-08_03_2022.csv', sep=\"|\")"
   ]
  },
  {
   "cell_type": "code",
   "execution_count": 4,
   "metadata": {},
   "outputs": [
    {
     "data": {
      "text/plain": [
       "(135958, 136422)"
      ]
     },
     "execution_count": 4,
     "metadata": {},
     "output_type": "execute_result"
    }
   ],
   "source": [
    "# Validar integridad del identificador único\n",
    "len(df_main['id_persona'].unique()), df_main.shape[0]"
   ]
  },
  {
   "cell_type": "code",
   "execution_count": 5,
   "metadata": {},
   "outputs": [
    {
     "data": {
      "text/plain": [
       "0"
      ]
     },
     "execution_count": 5,
     "metadata": {},
     "output_type": "execute_result"
    }
   ],
   "source": [
    "df_main['id_persona'].isna().sum()"
   ]
  },
  {
   "cell_type": "code",
   "execution_count": 6,
   "metadata": {},
   "outputs": [
    {
     "data": {
      "text/plain": [
       "26422634    3\n",
       "6054506     3\n",
       "29048330    3\n",
       "3820273     2\n",
       "9985143     2\n",
       "Name: id_persona, dtype: int64"
      ]
     },
     "execution_count": 6,
     "metadata": {},
     "output_type": "execute_result"
    }
   ],
   "source": [
    "## conteo de cuantas veces se duplica los id_persona\n",
    "filtro_duplicados = df_main['id_persona'].duplicated(keep=False)\n",
    "df_main[filtro_duplicados]['id_persona'].value_counts().head()"
   ]
  },
  {
   "cell_type": "code",
   "execution_count": 7,
   "metadata": {},
   "outputs": [],
   "source": [
    "# TODO: Crear variable si fue reinfeccion (0, 1)\n",
    "# TODO: Crear variable si con el # de la reinfeccion (1, 2, 3, etc)"
   ]
  },
  {
   "cell_type": "code",
   "execution_count": 8,
   "metadata": {},
   "outputs": [
    {
     "name": "stdout",
     "output_type": "stream",
     "text": [
      "7843\n",
      "5.75 %\n"
     ]
    }
   ],
   "source": [
    "## Número de valores perdidos\n",
    "edad_na_count = df_main['edad'].isna().sum()\n",
    "print(edad_na_count)\n",
    "print(round(edad_na_count / df_main.shape[0] * 100, 2), '%')"
   ]
  },
  {
   "cell_type": "code",
   "execution_count": 9,
   "metadata": {},
   "outputs": [
    {
     "name": "stderr",
     "output_type": "stream",
     "text": [
      "C:\\Users\\jose2\\AppData\\Local\\Temp\\ipykernel_7232\\3643795002.py:2: UserWarning: Matplotlib is currently using agg, which is a non-GUI backend, so cannot show the figure.\n",
      "  plt.show()\n"
     ]
    }
   ],
   "source": [
    "df_main['edad'].hist()\n",
    "plt.show()"
   ]
  },
  {
   "cell_type": "code",
   "execution_count": 10,
   "metadata": {},
   "outputs": [
    {
     "data": {
      "text/plain": [
       "count    128579.000000\n",
       "mean         52.179446\n",
       "std          20.436026\n",
       "min           0.000000\n",
       "25%          37.000000\n",
       "50%          54.000000\n",
       "75%          68.000000\n",
       "max         111.000000\n",
       "Name: edad, dtype: float64"
      ]
     },
     "execution_count": 10,
     "metadata": {},
     "output_type": "execute_result"
    }
   ],
   "source": [
    "df_main[\"edad\"].describe()"
   ]
  },
  {
   "cell_type": "code",
   "execution_count": 11,
   "metadata": {},
   "outputs": [
    {
     "data": {
      "text/plain": [
       "array([  0.        ,  15.85714286,  31.71428571,  47.57142857,\n",
       "        63.42857143,  79.28571429,  95.14285714, 111.        ])"
      ]
     },
     "execution_count": 11,
     "metadata": {},
     "output_type": "execute_result"
    }
   ],
   "source": [
    "counts, bins = np.histogram(df_main[\"edad\"].dropna().values,bins = 7)\n",
    "bins"
   ]
  },
  {
   "cell_type": "code",
   "execution_count": 12,
   "metadata": {},
   "outputs": [
    {
     "data": {
      "text/plain": [
       "(40, 55]     29595\n",
       "(65, 80]     26201\n",
       "(25, 40]     25404\n",
       "(55, 65]     23376\n",
       "(80, 95]      9954\n",
       "(18, 25]      7492\n",
       "(5, 13]       2197\n",
       "(13, 18]      1938\n",
       "(0, 5]        1926\n",
       "(95, 112]      451\n",
       "Name: edad, dtype: int64"
      ]
     },
     "execution_count": 12,
     "metadata": {},
     "output_type": "execute_result"
    }
   ],
   "source": [
    "edad_bins = pd.cut(df_main[\"edad\"], bins = [0,5,13,18,25,40,55,65,80,95,112])\n",
    "\n",
    "edad_bins_counts = edad_bins.value_counts()\n",
    "\n",
    "edad_bins_counts\n"
   ]
  },
  {
   "cell_type": "code",
   "execution_count": 13,
   "metadata": {},
   "outputs": [],
   "source": [
    "df_main[\"edad_bins\"] = edad_bins"
   ]
  },
  {
   "cell_type": "code",
   "execution_count": 14,
   "metadata": {},
   "outputs": [
    {
     "data": {
      "text/plain": [
       "0.05013854070457844"
      ]
     },
     "execution_count": 14,
     "metadata": {},
     "output_type": "execute_result"
    }
   ],
   "source": [
    "df_main[\"sexo\"].isna().sum() / df_main.shape[0]"
   ]
  },
  {
   "cell_type": "code",
   "execution_count": 15,
   "metadata": {},
   "outputs": [
    {
     "data": {
      "text/plain": [
       "(M    69149\n",
       " F    60433\n",
       " Name: sexo, dtype: int64,\n",
       " M    0.533631\n",
       " F    0.466369\n",
       " Name: sexo, dtype: float64)"
      ]
     },
     "execution_count": 15,
     "metadata": {},
     "output_type": "execute_result"
    }
   ],
   "source": [
    "df_main[\"sexo\"].value_counts(), df_main[\"sexo\"].value_counts(normalize= True)"
   ]
  },
  {
   "cell_type": "code",
   "execution_count": 16,
   "metadata": {},
   "outputs": [
    {
     "data": {
      "text/plain": [
       "edad_bins  sexo\n",
       "(0, 5]     F         850\n",
       "           M        1076\n",
       "(5, 13]    F         927\n",
       "           M        1270\n",
       "(13, 18]   F        1310\n",
       "           M         628\n",
       "(18, 25]   F        5866\n",
       "           M        1597\n",
       "(25, 40]   F       15891\n",
       "           M        9303\n",
       "(40, 55]   F       11255\n",
       "           M       18232\n",
       "(55, 65]   F        8820\n",
       "           M       14509\n",
       "(65, 80]   F       10327\n",
       "           M       15849\n",
       "(80, 95]   F        4383\n",
       "           M        5567\n",
       "(95, 112]  F         242\n",
       "           M         209\n",
       "dtype: int64"
      ]
     },
     "execution_count": 16,
     "metadata": {},
     "output_type": "execute_result"
    }
   ],
   "source": [
    "conteo_edad_x_sexo = (df_main[[\"edad_bins\",\"sexo\"]].dropna() ## selecion de columns y elimino NaNs\n",
    "                    .groupby([\"edad_bins\",\"sexo\"]).size() )# agrupo y cuento las obs. por intervalo de edad y sexo\n",
    "\n",
    "conteo_edad_x_sexo\n"
   ]
  },
  {
   "cell_type": "code",
   "execution_count": 17,
   "metadata": {},
   "outputs": [
    {
     "data": {
      "text/plain": [
       "<seaborn.axisgrid.FacetGrid at 0x1d4802dff70>"
      ]
     },
     "execution_count": 17,
     "metadata": {},
     "output_type": "execute_result"
    }
   ],
   "source": [
    "## gráfica de barras de cantidad de personas por intervalo de edad por género\n",
    "\n",
    "g = sns.catplot(\n",
    "    data=conteo_edad_x_sexo.reset_index().rename(columns={0: \"conteo\"}),\n",
    "     kind=\"bar\",\n",
    "    x=\"edad_bins\", y=\"conteo\", hue=\"sexo\",\n",
    "    ci=\"sd\", palette=\"dark\", alpha=.6, height=6\n",
    ")\n",
    "g.set_xticklabels(rotation = 90)"
   ]
  },
  {
   "cell_type": "code",
   "execution_count": 18,
   "metadata": {},
   "outputs": [
    {
     "data": {
      "text/plain": [
       "ubigeo_inei_domicilio    0\n",
       "dep_domicilio            0\n",
       "prov_domicilio           0\n",
       "dist_domicilio           0\n",
       "dtype: int64"
      ]
     },
     "execution_count": 18,
     "metadata": {},
     "output_type": "execute_result"
    }
   ],
   "source": [
    "geo_vars = ['ubigeo_inei_domicilio', 'dep_domicilio', 'prov_domicilio',\n",
    "       'dist_domicilio']\n",
    "df_main[geo_vars].isna().sum()"
   ]
  },
  {
   "cell_type": "code",
   "execution_count": 19,
   "metadata": {},
   "outputs": [],
   "source": [
    "df_main['ubigeo_inei_domicilio'] = df_main['ubigeo_inei_domicilio'].astype(str)"
   ]
  },
  {
   "cell_type": "code",
   "execution_count": 20,
   "metadata": {},
   "outputs": [
    {
     "data": {
      "text/plain": [
       "ubigeo_inei_domicilio    object\n",
       "dep_domicilio            object\n",
       "prov_domicilio           object\n",
       "dist_domicilio           object\n",
       "dtype: object"
      ]
     },
     "execution_count": 20,
     "metadata": {},
     "output_type": "execute_result"
    }
   ],
   "source": [
    "df_main[geo_vars].dtypes"
   ]
  },
  {
   "cell_type": "code",
   "execution_count": 21,
   "metadata": {},
   "outputs": [
    {
     "data": {
      "text/html": [
       "<div>\n",
       "<style scoped>\n",
       "    .dataframe tbody tr th:only-of-type {\n",
       "        vertical-align: middle;\n",
       "    }\n",
       "\n",
       "    .dataframe tbody tr th {\n",
       "        vertical-align: top;\n",
       "    }\n",
       "\n",
       "    .dataframe thead th {\n",
       "        text-align: right;\n",
       "    }\n",
       "</style>\n",
       "<table border=\"1\" class=\"dataframe\">\n",
       "  <thead>\n",
       "    <tr style=\"text-align: right;\">\n",
       "      <th></th>\n",
       "      <th>ubigeo_inei_domicilio</th>\n",
       "      <th>dep_domicilio</th>\n",
       "      <th>prov_domicilio</th>\n",
       "      <th>dist_domicilio</th>\n",
       "    </tr>\n",
       "  </thead>\n",
       "  <tbody>\n",
       "    <tr>\n",
       "      <th>count</th>\n",
       "      <td>136422</td>\n",
       "      <td>136422</td>\n",
       "      <td>136422</td>\n",
       "      <td>136422</td>\n",
       "    </tr>\n",
       "    <tr>\n",
       "      <th>unique</th>\n",
       "      <td>1716</td>\n",
       "      <td>25</td>\n",
       "      <td>196</td>\n",
       "      <td>1580</td>\n",
       "    </tr>\n",
       "    <tr>\n",
       "      <th>top</th>\n",
       "      <td>150142</td>\n",
       "      <td>LIMA</td>\n",
       "      <td>LIMA</td>\n",
       "      <td>VILLA EL SALVADOR</td>\n",
       "    </tr>\n",
       "    <tr>\n",
       "      <th>freq</th>\n",
       "      <td>7156</td>\n",
       "      <td>50719</td>\n",
       "      <td>46309</td>\n",
       "      <td>7156</td>\n",
       "    </tr>\n",
       "  </tbody>\n",
       "</table>\n",
       "</div>"
      ],
      "text/plain": [
       "       ubigeo_inei_domicilio dep_domicilio prov_domicilio     dist_domicilio\n",
       "count                 136422        136422         136422             136422\n",
       "unique                  1716            25            196               1580\n",
       "top                   150142          LIMA           LIMA  VILLA EL SALVADOR\n",
       "freq                    7156         50719          46309               7156"
      ]
     },
     "execution_count": 21,
     "metadata": {},
     "output_type": "execute_result"
    }
   ],
   "source": [
    "df_main[geo_vars].describe()"
   ]
  },
  {
   "cell_type": "markdown",
   "metadata": {},
   "source": [
    "**Manejando datos geoespaciales**"
   ]
  },
  {
   "cell_type": "code",
   "execution_count": 22,
   "metadata": {},
   "outputs": [],
   "source": [
    "gdf_deps = gpd.read_file('../data/departamentos/DEPARTAMENTOS.shp')"
   ]
  },
  {
   "cell_type": "code",
   "execution_count": 23,
   "metadata": {},
   "outputs": [
    {
     "data": {
      "text/plain": [
       "<AxesSubplot:>"
      ]
     },
     "execution_count": 23,
     "metadata": {},
     "output_type": "execute_result"
    }
   ],
   "source": [
    "## creando un plot del mapa\n",
    "gdf_deps.plot()"
   ]
  },
  {
   "cell_type": "code",
   "execution_count": 24,
   "metadata": {},
   "outputs": [
    {
     "data": {
      "text/plain": [
       "Index(['IDDPTO', 'DEPARTAMEN', 'CAPITAL', 'FUENTE', 'geometry'], dtype='object')"
      ]
     },
     "execution_count": 24,
     "metadata": {},
     "output_type": "execute_result"
    }
   ],
   "source": [
    "gdf_deps.columns"
   ]
  },
  {
   "cell_type": "code",
   "execution_count": 25,
   "metadata": {},
   "outputs": [
    {
     "data": {
      "text/plain": [
       "True"
      ]
     },
     "execution_count": 25,
     "metadata": {},
     "output_type": "execute_result"
    }
   ],
   "source": [
    "## analizando si tienen la misma llave mi base de datos y el del shapefile\n",
    "df_unique_dep = df_main['dep_domicilio'].unique()\n",
    "df_unique_dep.sort()\n",
    "\n",
    "gdf_unique_dep = gdf_deps['DEPARTAMEN'].unique()\n",
    "gdf_unique_dep.sort()\n",
    "\n",
    "# VALIDAMOS QUE LOS NOMBRES DE DEPARTAMENTOS\n",
    "# EN LOS DOS DATASETS SEAN IGUALES\n",
    "(df_unique_dep == gdf_unique_dep).all() # True"
   ]
  },
  {
   "cell_type": "code",
   "execution_count": 26,
   "metadata": {},
   "outputs": [
    {
     "data": {
      "text/html": [
       "<div>\n",
       "<style scoped>\n",
       "    .dataframe tbody tr th:only-of-type {\n",
       "        vertical-align: middle;\n",
       "    }\n",
       "\n",
       "    .dataframe tbody tr th {\n",
       "        vertical-align: top;\n",
       "    }\n",
       "\n",
       "    .dataframe thead th {\n",
       "        text-align: right;\n",
       "    }\n",
       "</style>\n",
       "<table border=\"1\" class=\"dataframe\">\n",
       "  <thead>\n",
       "    <tr style=\"text-align: right;\">\n",
       "      <th></th>\n",
       "      <th>index</th>\n",
       "      <th>dep_domicilio</th>\n",
       "    </tr>\n",
       "  </thead>\n",
       "  <tbody>\n",
       "    <tr>\n",
       "      <th>0</th>\n",
       "      <td>LIMA</td>\n",
       "      <td>50719</td>\n",
       "    </tr>\n",
       "    <tr>\n",
       "      <th>1</th>\n",
       "      <td>ANCASH</td>\n",
       "      <td>11753</td>\n",
       "    </tr>\n",
       "    <tr>\n",
       "      <th>2</th>\n",
       "      <td>CUSCO</td>\n",
       "      <td>10952</td>\n",
       "    </tr>\n",
       "    <tr>\n",
       "      <th>3</th>\n",
       "      <td>CAJAMARCA</td>\n",
       "      <td>8584</td>\n",
       "    </tr>\n",
       "    <tr>\n",
       "      <th>4</th>\n",
       "      <td>PIURA</td>\n",
       "      <td>7909</td>\n",
       "    </tr>\n",
       "  </tbody>\n",
       "</table>\n",
       "</div>"
      ],
      "text/plain": [
       "       index  dep_domicilio\n",
       "0       LIMA          50719\n",
       "1     ANCASH          11753\n",
       "2      CUSCO          10952\n",
       "3  CAJAMARCA           8584\n",
       "4      PIURA           7909"
      ]
     },
     "execution_count": 26,
     "metadata": {},
     "output_type": "execute_result"
    }
   ],
   "source": [
    "# Contamos la cantidad de hospitalizados por departamento\n",
    "conteo_x_dept = df_main['dep_domicilio'].value_counts()\n",
    "conteo_x_dept = conteo_x_dept.reset_index()\n",
    "conteo_x_dept.head()"
   ]
  },
  {
   "cell_type": "code",
   "execution_count": 27,
   "metadata": {},
   "outputs": [],
   "source": [
    "# Unimos los conteos utilizando los nombres de departamentos\n",
    "gdf_conteo_x_dept = pd.merge(left=gdf_deps, right=conteo_x_dept, \n",
    "                             left_on=\"DEPARTAMEN\", right_on='index')"
   ]
  },
  {
   "cell_type": "code",
   "execution_count": 28,
   "metadata": {},
   "outputs": [
    {
     "data": {
      "text/html": [
       "<div>\n",
       "<style scoped>\n",
       "    .dataframe tbody tr th:only-of-type {\n",
       "        vertical-align: middle;\n",
       "    }\n",
       "\n",
       "    .dataframe tbody tr th {\n",
       "        vertical-align: top;\n",
       "    }\n",
       "\n",
       "    .dataframe thead th {\n",
       "        text-align: right;\n",
       "    }\n",
       "</style>\n",
       "<table border=\"1\" class=\"dataframe\">\n",
       "  <thead>\n",
       "    <tr style=\"text-align: right;\">\n",
       "      <th></th>\n",
       "      <th>IDDPTO</th>\n",
       "      <th>DEPARTAMEN</th>\n",
       "      <th>CAPITAL</th>\n",
       "      <th>FUENTE</th>\n",
       "      <th>geometry</th>\n",
       "      <th>index</th>\n",
       "      <th>dep_domicilio</th>\n",
       "    </tr>\n",
       "  </thead>\n",
       "  <tbody>\n",
       "    <tr>\n",
       "      <th>0</th>\n",
       "      <td>01</td>\n",
       "      <td>AMAZONAS</td>\n",
       "      <td>CHACHAPOYAS</td>\n",
       "      <td>INEI</td>\n",
       "      <td>POLYGON ((-77.81211 -2.98962, -77.81332 -2.990...</td>\n",
       "      <td>AMAZONAS</td>\n",
       "      <td>1833</td>\n",
       "    </tr>\n",
       "    <tr>\n",
       "      <th>1</th>\n",
       "      <td>02</td>\n",
       "      <td>ANCASH</td>\n",
       "      <td>HUARAZ</td>\n",
       "      <td>INEI</td>\n",
       "      <td>POLYGON ((-77.64692 -8.05086, -77.64669 -8.052...</td>\n",
       "      <td>ANCASH</td>\n",
       "      <td>11753</td>\n",
       "    </tr>\n",
       "    <tr>\n",
       "      <th>2</th>\n",
       "      <td>03</td>\n",
       "      <td>APURIMAC</td>\n",
       "      <td>ABANCAY</td>\n",
       "      <td>INEI</td>\n",
       "      <td>POLYGON ((-73.74632 -13.17456, -73.74570 -13.1...</td>\n",
       "      <td>APURIMAC</td>\n",
       "      <td>2778</td>\n",
       "    </tr>\n",
       "    <tr>\n",
       "      <th>3</th>\n",
       "      <td>04</td>\n",
       "      <td>AREQUIPA</td>\n",
       "      <td>AREQUIPA</td>\n",
       "      <td>INEI</td>\n",
       "      <td>POLYGON ((-71.98109 -14.64062, -71.98093 -14.6...</td>\n",
       "      <td>AREQUIPA</td>\n",
       "      <td>490</td>\n",
       "    </tr>\n",
       "    <tr>\n",
       "      <th>4</th>\n",
       "      <td>05</td>\n",
       "      <td>AYACUCHO</td>\n",
       "      <td>AYACUCHO</td>\n",
       "      <td>INEI</td>\n",
       "      <td>POLYGON ((-74.34843 -12.17503, -74.35000 -12.1...</td>\n",
       "      <td>AYACUCHO</td>\n",
       "      <td>627</td>\n",
       "    </tr>\n",
       "  </tbody>\n",
       "</table>\n",
       "</div>"
      ],
      "text/plain": [
       "  IDDPTO DEPARTAMEN      CAPITAL FUENTE  \\\n",
       "0     01   AMAZONAS  CHACHAPOYAS   INEI   \n",
       "1     02     ANCASH       HUARAZ   INEI   \n",
       "2     03   APURIMAC      ABANCAY   INEI   \n",
       "3     04   AREQUIPA     AREQUIPA   INEI   \n",
       "4     05   AYACUCHO     AYACUCHO   INEI   \n",
       "\n",
       "                                            geometry     index  dep_domicilio  \n",
       "0  POLYGON ((-77.81211 -2.98962, -77.81332 -2.990...  AMAZONAS           1833  \n",
       "1  POLYGON ((-77.64692 -8.05086, -77.64669 -8.052...    ANCASH          11753  \n",
       "2  POLYGON ((-73.74632 -13.17456, -73.74570 -13.1...  APURIMAC           2778  \n",
       "3  POLYGON ((-71.98109 -14.64062, -71.98093 -14.6...  AREQUIPA            490  \n",
       "4  POLYGON ((-74.34843 -12.17503, -74.35000 -12.1...  AYACUCHO            627  "
      ]
     },
     "execution_count": 28,
     "metadata": {},
     "output_type": "execute_result"
    }
   ],
   "source": [
    "gdf_conteo_x_dept.head()"
   ]
  },
  {
   "cell_type": "code",
   "execution_count": 29,
   "metadata": {},
   "outputs": [
    {
     "data": {
      "text/plain": [
       "<AxesSubplot:>"
      ]
     },
     "execution_count": 29,
     "metadata": {},
     "output_type": "execute_result"
    }
   ],
   "source": [
    "# Mapa de calor de # de hospitalizados x departamento\n",
    "gdf_conteo_x_dept.plot(\"dep_domicilio\", cmap='viridis',\n",
    "                       legend=True)"
   ]
  },
  {
   "cell_type": "markdown",
   "metadata": {},
   "source": [
    "## Correlación\n",
    "\n",
    "Es el valor numérico que describle la relación ( directa o inversa) entre dos variables, pero solo la forma **lineal**. Es decir, un correlación no indica que no existe relación entre las variables, sino que no presenta una relación lineal."
   ]
  },
  {
   "cell_type": "code",
   "execution_count": 30,
   "metadata": {},
   "outputs": [
    {
     "data": {
      "text/plain": [
       "array([[1.        , 0.02111353],\n",
       "       [0.02111353, 1.        ]])"
      ]
     },
     "execution_count": 30,
     "metadata": {},
     "output_type": "execute_result"
    }
   ],
   "source": [
    "np.corrcoef(df_main[\"eess_renaes\"],df_main[\"flag_uci\"])"
   ]
  },
  {
   "cell_type": "code",
   "execution_count": 31,
   "metadata": {},
   "outputs": [
    {
     "data": {
      "text/html": [
       "<div>\n",
       "<style scoped>\n",
       "    .dataframe tbody tr th:only-of-type {\n",
       "        vertical-align: middle;\n",
       "    }\n",
       "\n",
       "    .dataframe tbody tr th {\n",
       "        vertical-align: top;\n",
       "    }\n",
       "\n",
       "    .dataframe thead th {\n",
       "        text-align: right;\n",
       "    }\n",
       "</style>\n",
       "<table border=\"1\" class=\"dataframe\">\n",
       "  <thead>\n",
       "    <tr style=\"text-align: right;\">\n",
       "      <th></th>\n",
       "      <th>eess_renaes</th>\n",
       "      <th>id_eess</th>\n",
       "      <th>id_persona</th>\n",
       "      <th>edad</th>\n",
       "      <th>flag_uci</th>\n",
       "      <th>con_oxigeno</th>\n",
       "      <th>con_ventilacion</th>\n",
       "      <th>flag_vacuna</th>\n",
       "      <th>cdc_positividad</th>\n",
       "      <th>cdc_fallecido_covid</th>\n",
       "    </tr>\n",
       "  </thead>\n",
       "  <tbody>\n",
       "    <tr>\n",
       "      <th>eess_renaes</th>\n",
       "      <td>1.000000</td>\n",
       "      <td>0.999724</td>\n",
       "      <td>0.019344</td>\n",
       "      <td>-0.115995</td>\n",
       "      <td>0.021114</td>\n",
       "      <td>-0.172506</td>\n",
       "      <td>0.049255</td>\n",
       "      <td>-0.008720</td>\n",
       "      <td>-0.189981</td>\n",
       "      <td>-0.078807</td>\n",
       "    </tr>\n",
       "    <tr>\n",
       "      <th>id_eess</th>\n",
       "      <td>0.999724</td>\n",
       "      <td>1.000000</td>\n",
       "      <td>0.020345</td>\n",
       "      <td>-0.115638</td>\n",
       "      <td>0.021211</td>\n",
       "      <td>-0.170655</td>\n",
       "      <td>0.050076</td>\n",
       "      <td>-0.009522</td>\n",
       "      <td>-0.189911</td>\n",
       "      <td>-0.077915</td>\n",
       "    </tr>\n",
       "    <tr>\n",
       "      <th>id_persona</th>\n",
       "      <td>0.019344</td>\n",
       "      <td>0.020345</td>\n",
       "      <td>1.000000</td>\n",
       "      <td>-0.115043</td>\n",
       "      <td>0.009564</td>\n",
       "      <td>-0.093752</td>\n",
       "      <td>0.003587</td>\n",
       "      <td>-0.465574</td>\n",
       "      <td>-0.126850</td>\n",
       "      <td>0.307252</td>\n",
       "    </tr>\n",
       "    <tr>\n",
       "      <th>edad</th>\n",
       "      <td>-0.115995</td>\n",
       "      <td>-0.115638</td>\n",
       "      <td>-0.115043</td>\n",
       "      <td>1.000000</td>\n",
       "      <td>0.031786</td>\n",
       "      <td>0.413115</td>\n",
       "      <td>0.023437</td>\n",
       "      <td>-0.126770</td>\n",
       "      <td>0.121101</td>\n",
       "      <td>0.418936</td>\n",
       "    </tr>\n",
       "    <tr>\n",
       "      <th>flag_uci</th>\n",
       "      <td>0.021114</td>\n",
       "      <td>0.021211</td>\n",
       "      <td>0.009564</td>\n",
       "      <td>0.031786</td>\n",
       "      <td>1.000000</td>\n",
       "      <td>0.166862</td>\n",
       "      <td>0.747212</td>\n",
       "      <td>-0.077172</td>\n",
       "      <td>0.042261</td>\n",
       "      <td>0.103393</td>\n",
       "    </tr>\n",
       "    <tr>\n",
       "      <th>con_oxigeno</th>\n",
       "      <td>-0.172506</td>\n",
       "      <td>-0.170655</td>\n",
       "      <td>-0.093752</td>\n",
       "      <td>0.413115</td>\n",
       "      <td>0.166862</td>\n",
       "      <td>1.000000</td>\n",
       "      <td>0.167074</td>\n",
       "      <td>-0.045013</td>\n",
       "      <td>0.193051</td>\n",
       "      <td>0.286102</td>\n",
       "    </tr>\n",
       "    <tr>\n",
       "      <th>con_ventilacion</th>\n",
       "      <td>0.049255</td>\n",
       "      <td>0.050076</td>\n",
       "      <td>0.003587</td>\n",
       "      <td>0.023437</td>\n",
       "      <td>0.747212</td>\n",
       "      <td>0.167074</td>\n",
       "      <td>1.000000</td>\n",
       "      <td>-0.083547</td>\n",
       "      <td>0.052755</td>\n",
       "      <td>0.136440</td>\n",
       "    </tr>\n",
       "    <tr>\n",
       "      <th>flag_vacuna</th>\n",
       "      <td>-0.008720</td>\n",
       "      <td>-0.009522</td>\n",
       "      <td>-0.465574</td>\n",
       "      <td>-0.126770</td>\n",
       "      <td>-0.077172</td>\n",
       "      <td>-0.045013</td>\n",
       "      <td>-0.083547</td>\n",
       "      <td>1.000000</td>\n",
       "      <td>0.095966</td>\n",
       "      <td>-0.658336</td>\n",
       "    </tr>\n",
       "    <tr>\n",
       "      <th>cdc_positividad</th>\n",
       "      <td>-0.189981</td>\n",
       "      <td>-0.189911</td>\n",
       "      <td>-0.126850</td>\n",
       "      <td>0.121101</td>\n",
       "      <td>0.042261</td>\n",
       "      <td>0.193051</td>\n",
       "      <td>0.052755</td>\n",
       "      <td>0.095966</td>\n",
       "      <td>1.000000</td>\n",
       "      <td>0.091382</td>\n",
       "    </tr>\n",
       "    <tr>\n",
       "      <th>cdc_fallecido_covid</th>\n",
       "      <td>-0.078807</td>\n",
       "      <td>-0.077915</td>\n",
       "      <td>0.307252</td>\n",
       "      <td>0.418936</td>\n",
       "      <td>0.103393</td>\n",
       "      <td>0.286102</td>\n",
       "      <td>0.136440</td>\n",
       "      <td>-0.658336</td>\n",
       "      <td>0.091382</td>\n",
       "      <td>1.000000</td>\n",
       "    </tr>\n",
       "  </tbody>\n",
       "</table>\n",
       "</div>"
      ],
      "text/plain": [
       "                     eess_renaes   id_eess  id_persona      edad  flag_uci  \\\n",
       "eess_renaes             1.000000  0.999724    0.019344 -0.115995  0.021114   \n",
       "id_eess                 0.999724  1.000000    0.020345 -0.115638  0.021211   \n",
       "id_persona              0.019344  0.020345    1.000000 -0.115043  0.009564   \n",
       "edad                   -0.115995 -0.115638   -0.115043  1.000000  0.031786   \n",
       "flag_uci                0.021114  0.021211    0.009564  0.031786  1.000000   \n",
       "con_oxigeno            -0.172506 -0.170655   -0.093752  0.413115  0.166862   \n",
       "con_ventilacion         0.049255  0.050076    0.003587  0.023437  0.747212   \n",
       "flag_vacuna            -0.008720 -0.009522   -0.465574 -0.126770 -0.077172   \n",
       "cdc_positividad        -0.189981 -0.189911   -0.126850  0.121101  0.042261   \n",
       "cdc_fallecido_covid    -0.078807 -0.077915    0.307252  0.418936  0.103393   \n",
       "\n",
       "                     con_oxigeno  con_ventilacion  flag_vacuna  \\\n",
       "eess_renaes            -0.172506         0.049255    -0.008720   \n",
       "id_eess                -0.170655         0.050076    -0.009522   \n",
       "id_persona             -0.093752         0.003587    -0.465574   \n",
       "edad                    0.413115         0.023437    -0.126770   \n",
       "flag_uci                0.166862         0.747212    -0.077172   \n",
       "con_oxigeno             1.000000         0.167074    -0.045013   \n",
       "con_ventilacion         0.167074         1.000000    -0.083547   \n",
       "flag_vacuna            -0.045013        -0.083547     1.000000   \n",
       "cdc_positividad         0.193051         0.052755     0.095966   \n",
       "cdc_fallecido_covid     0.286102         0.136440    -0.658336   \n",
       "\n",
       "                     cdc_positividad  cdc_fallecido_covid  \n",
       "eess_renaes                -0.189981            -0.078807  \n",
       "id_eess                    -0.189911            -0.077915  \n",
       "id_persona                 -0.126850             0.307252  \n",
       "edad                        0.121101             0.418936  \n",
       "flag_uci                    0.042261             0.103393  \n",
       "con_oxigeno                 0.193051             0.286102  \n",
       "con_ventilacion             0.052755             0.136440  \n",
       "flag_vacuna                 0.095966            -0.658336  \n",
       "cdc_positividad             1.000000             0.091382  \n",
       "cdc_fallecido_covid         0.091382             1.000000  "
      ]
     },
     "execution_count": 31,
     "metadata": {},
     "output_type": "execute_result"
    }
   ],
   "source": [
    "df_main.corr()"
   ]
  },
  {
   "cell_type": "code",
   "execution_count": 33,
   "metadata": {},
   "outputs": [],
   "source": [
    "# Construir variable tiempo de hospitalizacion por covid\n",
    "df_main['fecha_ingreso_hosp_dt'] = pd.to_datetime(df_main['fecha_ingreso_hosp'], format=\"%d/%m/%Y\")\n",
    "df_main['fecha_segumiento_hosp_ultimo_dt'] = pd.to_datetime(df_main['fecha_segumiento_hosp_ultimo'], format=\"%d/%m/%Y\")"
   ]
  },
  {
   "cell_type": "code",
   "execution_count": 34,
   "metadata": {},
   "outputs": [
    {
     "data": {
      "text/plain": [
       "0    9 days\n",
       "1    8 days\n",
       "2   38 days\n",
       "3    7 days\n",
       "4    4 days\n",
       "dtype: timedelta64[ns]"
      ]
     },
     "execution_count": 34,
     "metadata": {},
     "output_type": "execute_result"
    }
   ],
   "source": [
    "dias_hosp = df_main['fecha_segumiento_hosp_ultimo_dt'] - df_main['fecha_ingreso_hosp_dt']\n",
    "dias_hosp.head()"
   ]
  },
  {
   "cell_type": "code",
   "execution_count": 38,
   "metadata": {},
   "outputs": [],
   "source": [
    "# De segundos a dias\n",
    "dias_hosp = dias_hosp.dt.total_seconds() / 60 / 60 / 24"
   ]
  },
  {
   "cell_type": "code",
   "execution_count": 39,
   "metadata": {},
   "outputs": [],
   "source": [
    "df_main['dias_delta_hosp'] = dias_hosp"
   ]
  },
  {
   "cell_type": "code",
   "execution_count": 40,
   "metadata": {},
   "outputs": [
    {
     "data": {
      "text/plain": [
       "0.13190281441847823"
      ]
     },
     "execution_count": 40,
     "metadata": {},
     "output_type": "execute_result"
    }
   ],
   "source": [
    "## correlación de días en el hospital con la edad\n",
    "df_main['dias_delta_hosp'].corr(df_main['edad'])"
   ]
  },
  {
   "cell_type": "code",
   "execution_count": 44,
   "metadata": {},
   "outputs": [
    {
     "data": {
      "text/plain": [
       "<matplotlib.collections.PathCollection at 0x1d480392850>"
      ]
     },
     "execution_count": 44,
     "metadata": {},
     "output_type": "execute_result"
    },
    {
     "data": {
      "image/png": "[encoded data removed]",
      "text/plain": [
       "<Figure size 432x288 with 1 Axes>"
      ]
     },
     "metadata": {
      "needs_background": "light"
     },
     "output_type": "display_data"
    }
   ],
   "source": [
    "plt.scatter(x=df_main['dias_delta_hosp'], y=df_main['edad'])"
   ]
  },
  {
   "cell_type": "code",
   "execution_count": 45,
   "metadata": {},
   "outputs": [],
   "source": [
    "corr_matrix_var = ['edad', 'flag_uci', 'cdc_positividad',\n",
    " 'cdc_fallecido_covid', 'dias_delta_hosp']"
   ]
  },
  {
   "cell_type": "code",
   "execution_count": 46,
   "metadata": {},
   "outputs": [
    {
     "data": {
      "text/html": [
       "<div>\n",
       "<style scoped>\n",
       "    .dataframe tbody tr th:only-of-type {\n",
       "        vertical-align: middle;\n",
       "    }\n",
       "\n",
       "    .dataframe tbody tr th {\n",
       "        vertical-align: top;\n",
       "    }\n",
       "\n",
       "    .dataframe thead th {\n",
       "        text-align: right;\n",
       "    }\n",
       "</style>\n",
       "<table border=\"1\" class=\"dataframe\">\n",
       "  <thead>\n",
       "    <tr style=\"text-align: right;\">\n",
       "      <th></th>\n",
       "      <th>edad</th>\n",
       "      <th>flag_uci</th>\n",
       "      <th>cdc_positividad</th>\n",
       "      <th>cdc_fallecido_covid</th>\n",
       "      <th>dias_delta_hosp</th>\n",
       "    </tr>\n",
       "  </thead>\n",
       "  <tbody>\n",
       "    <tr>\n",
       "      <th>edad</th>\n",
       "      <td>1.000000</td>\n",
       "      <td>0.031786</td>\n",
       "      <td>0.121101</td>\n",
       "      <td>0.418936</td>\n",
       "      <td>0.131903</td>\n",
       "    </tr>\n",
       "    <tr>\n",
       "      <th>flag_uci</th>\n",
       "      <td>0.031786</td>\n",
       "      <td>1.000000</td>\n",
       "      <td>0.042261</td>\n",
       "      <td>0.103393</td>\n",
       "      <td>0.316679</td>\n",
       "    </tr>\n",
       "    <tr>\n",
       "      <th>cdc_positividad</th>\n",
       "      <td>0.121101</td>\n",
       "      <td>0.042261</td>\n",
       "      <td>1.000000</td>\n",
       "      <td>0.091382</td>\n",
       "      <td>0.096393</td>\n",
       "    </tr>\n",
       "    <tr>\n",
       "      <th>cdc_fallecido_covid</th>\n",
       "      <td>0.418936</td>\n",
       "      <td>0.103393</td>\n",
       "      <td>0.091382</td>\n",
       "      <td>1.000000</td>\n",
       "      <td>-0.028707</td>\n",
       "    </tr>\n",
       "    <tr>\n",
       "      <th>dias_delta_hosp</th>\n",
       "      <td>0.131903</td>\n",
       "      <td>0.316679</td>\n",
       "      <td>0.096393</td>\n",
       "      <td>-0.028707</td>\n",
       "      <td>1.000000</td>\n",
       "    </tr>\n",
       "  </tbody>\n",
       "</table>\n",
       "</div>"
      ],
      "text/plain": [
       "                         edad  flag_uci  cdc_positividad  cdc_fallecido_covid  \\\n",
       "edad                 1.000000  0.031786         0.121101             0.418936   \n",
       "flag_uci             0.031786  1.000000         0.042261             0.103393   \n",
       "cdc_positividad      0.121101  0.042261         1.000000             0.091382   \n",
       "cdc_fallecido_covid  0.418936  0.103393         0.091382             1.000000   \n",
       "dias_delta_hosp      0.131903  0.316679         0.096393            -0.028707   \n",
       "\n",
       "                     dias_delta_hosp  \n",
       "edad                        0.131903  \n",
       "flag_uci                    0.316679  \n",
       "cdc_positividad             0.096393  \n",
       "cdc_fallecido_covid        -0.028707  \n",
       "dias_delta_hosp             1.000000  "
      ]
     },
     "execution_count": 46,
     "metadata": {},
     "output_type": "execute_result"
    }
   ],
   "source": [
    "corr_matrix  = df_main[corr_matrix_var].corr()\n",
    "corr_matrix"
   ]
  },
  {
   "cell_type": "code",
   "execution_count": 50,
   "metadata": {},
   "outputs": [
    {
     "data": {
      "image/png": "[encoded data removed]",
      "text/plain": [
       "<Figure size 288x288 with 2 Axes>"
      ]
     },
     "metadata": {
      "needs_background": "light"
     },
     "output_type": "display_data"
    }
   ],
   "source": [
    "# Grafico de la matriz de correlacion\n",
    "\n",
    "plt.rcParams['axes.grid'] = False  # Eliminar lineas dentro del grafico\n",
    "\n",
    "plt.matshow(corr_matrix, cmap='coolwarm', vmin=-1, vmax=1)\n",
    "\n",
    "# Colocar nombres de variables en los ejes\n",
    "plt.xticks(np.arange(corr_matrix.shape[0]), corr_matrix.columns, rotation=90)\n",
    "plt.yticks(np.arange(corr_matrix.shape[0]), corr_matrix.columns)\n",
    "\n",
    "plt.colorbar() # Agregar un barra de colores como leyenda\n",
    "\n",
    "plt.show()"
   ]
  },
  {
   "cell_type": "markdown",
   "metadata": {},
   "source": [
    "#### Análisis exploratorio de datos\n",
    "\n",
    "##### PREPARACIÓN ANTES DEL EDA\n",
    "\n",
    "1. selecionar las variables a analizar que sean relevantes para el estudio\n",
    "2. Verificar la integridad de las variables ( si estan limpias o que debemos hacer para limpiarlo)\n",
    "3. plantearse preguntas de exploración ( posibles relaciones y que no son triviales,\n",
    "ejm, % de personas que se contagiaron más de dos veces)\n",
    "4. planterar hipotesis a partir de nnuestras variables ( se busca responder con test estadísticos)\n",
    "\n",
    "##### EDA\n",
    "\n",
    "5. limpiar los datos (80%)\n",
    "6. Responder las preguntas de exploración a partir de los datos ( indicadores y gráficas)\n",
    "7. responder las impotesis ( test estadísticos | estadisitica descriptiva)\n",
    "8. Generar un reporte para el público en general."
   ]
  },
  {
   "cell_type": "code",
   "execution_count": 52,
   "metadata": {},
   "outputs": [],
   "source": [
    "profile = ppr.ProfileReport(df_main, title = \"Pandas profiling report\", minimal= True)"
   ]
  },
  {
   "cell_type": "code",
   "execution_count": 57,
   "metadata": {},
   "outputs": [
    {
     "name": "stderr",
     "output_type": "stream",
     "text": [
      "Export report to file: 100%|██████████| 1/1 [00:00<00:00, 66.73it/s]\n"
     ]
    }
   ],
   "source": [
    "profile.to_file(\"../reports/tb_hosp_vac_fallecidos.html\")"
   ]
  },
  {
   "cell_type": "markdown",
   "metadata": {},
   "source": [
    "### Preguntas de exploración\n",
    "\n",
    "1. ¿Cúal es el índice de mortalidad por grupo de edad?\n",
    "2.  ¿Cúal es el % de pacientes UCI vacunados con la 1,2 o 3 dosis?\n",
    "3. ¿Cúal es la edad promedio de las personas que ingresaron a UCI?\n",
    "4. ¿Cúal fue el tiempo promedio de recuperación de las personas que lograron salir de UCI?"
   ]
  },
  {
   "cell_type": "code",
   "execution_count": 60,
   "metadata": {},
   "outputs": [
    {
     "name": "stderr",
     "output_type": "stream",
     "text": [
      "C:\\Users\\jose2\\AppData\\Local\\Temp\\ipykernel_7232\\3692856276.py:5: FutureWarning: Treating datetime data as categorical rather than numeric in `.describe` is deprecated and will be removed in a future version of pandas. Specify `datetime_is_numeric=True` to silence this warning and adopt the future behavior now.\n",
      "  df_main[\"fecha_ingreso_hosp_dt\"].describe()\n"
     ]
    },
    {
     "data": {
      "text/plain": [
       "count                  136422\n",
       "unique                    728\n",
       "top       2021-04-09 00:00:00\n",
       "freq                      452\n",
       "first     2019-06-06 00:00:00\n",
       "last      2022-03-08 00:00:00\n",
       "Name: fecha_ingreso_hosp_dt, dtype: object"
      ]
     },
     "execution_count": 60,
     "metadata": {},
     "output_type": "execute_result"
    }
   ],
   "source": [
    "## Índice de mortalidad por grupo de edad\n",
    "\n",
    "## hopitalizados\n",
    "\n",
    "df_main[\"fecha_ingreso_hosp_dt\"].describe()"
   ]
  },
  {
   "cell_type": "code",
   "execution_count": 63,
   "metadata": {},
   "outputs": [],
   "source": [
    "import datetime"
   ]
  },
  {
   "cell_type": "code",
   "execution_count": 65,
   "metadata": {},
   "outputs": [],
   "source": [
    "df_main_filtrado = df_main[df_main[\"fecha_ingreso_hosp_dt\"]> datetime.datetime(2020,3,6)]"
   ]
  },
  {
   "cell_type": "code",
   "execution_count": 68,
   "metadata": {},
   "outputs": [
    {
     "data": {
      "text/plain": [
       "cdc_fallecido_covid  edad_bins\n",
       "0                    (0, 5]        1869\n",
       "                     (5, 13]       2159\n",
       "                     (13, 18]      1891\n",
       "                     (18, 25]      7332\n",
       "                     (25, 40]     23733\n",
       "                     (40, 55]     23095\n",
       "                     (55, 65]     14735\n",
       "                     (65, 80]     12972\n",
       "                     (80, 95]      4175\n",
       "                     (95, 112]      148\n",
       "1                    (0, 5]          57\n",
       "                     (5, 13]         38\n",
       "                     (13, 18]        47\n",
       "                     (18, 25]       160\n",
       "                     (25, 40]      1671\n",
       "                     (40, 55]      6498\n",
       "                     (55, 65]      8641\n",
       "                     (65, 80]     13227\n",
       "                     (80, 95]      5778\n",
       "                     (95, 112]      303\n",
       "dtype: int64"
      ]
     },
     "execution_count": 68,
     "metadata": {},
     "output_type": "execute_result"
    }
   ],
   "source": [
    "# indice de mortalidad por grupo de edad\n",
    "# muestra; personas hospitalizadas entre 2020-03-16 al 2022-03-08\n",
    "# Formula; $ personas fallecidas entre x y y años / total de personas hospitalizadas\n",
    "\n",
    "num_fallecidos_x_edad = df_main_filtrado.groupby([\"cdc_fallecido_covid\",\"edad_bins\"]).size()\n",
    "num_fallecidos_x_edad"
   ]
  },
  {
   "cell_type": "code",
   "execution_count": 70,
   "metadata": {},
   "outputs": [
    {
     "data": {
      "text/plain": [
       "edad_bins\n",
       "(0, 5]        1926\n",
       "(5, 13]       2197\n",
       "(13, 18]      1938\n",
       "(18, 25]      7492\n",
       "(25, 40]     25404\n",
       "(40, 55]     29593\n",
       "(55, 65]     23376\n",
       "(65, 80]     26199\n",
       "(80, 95]      9953\n",
       "(95, 112]      451\n",
       "dtype: int64"
      ]
     },
     "execution_count": 70,
     "metadata": {},
     "output_type": "execute_result"
    }
   ],
   "source": [
    "total_hosp = df_main_filtrado.groupby(\"edad_bins\").size()\n",
    "total_hosp"
   ]
  },
  {
   "cell_type": "code",
   "execution_count": 74,
   "metadata": {},
   "outputs": [],
   "source": [
    "perc_fallecidos_edad = num_fallecidos_x_edad.copy()\n",
    "perc_fallecidos_edad = (num_fallecidos_x_edad.loc[1] / total_hosp * 100)\n"
   ]
  },
  {
   "cell_type": "code",
   "execution_count": 75,
   "metadata": {},
   "outputs": [
    {
     "data": {
      "text/plain": [
       "edad_bins\n",
       "(0, 5]        2.959502\n",
       "(5, 13]       1.729631\n",
       "(13, 18]      2.425181\n",
       "(18, 25]      2.135611\n",
       "(25, 40]      6.577704\n",
       "(40, 55]     21.957895\n",
       "(55, 65]     36.965264\n",
       "(65, 80]     50.486660\n",
       "(80, 95]     58.052848\n",
       "(95, 112]    67.184035\n",
       "dtype: float64"
      ]
     },
     "execution_count": 75,
     "metadata": {},
     "output_type": "execute_result"
    }
   ],
   "source": [
    "perc_fallecidos_edad"
   ]
  },
  {
   "cell_type": "code",
   "execution_count": 89,
   "metadata": {},
   "outputs": [
    {
     "data": {
      "text/plain": [
       "<AxesSubplot:xlabel='edad_bins'>"
      ]
     },
     "execution_count": 89,
     "metadata": {},
     "output_type": "execute_result"
    },
    {
     "data": {
      "image/png": "[encoded data removed]",
      "text/plain": [
       "<Figure size 432x288 with 1 Axes>"
      ]
     },
     "metadata": {
      "needs_background": "light"
     },
     "output_type": "display_data"
    }
   ],
   "source": [
    "perc_fallecidos_edad.sort_values(ascending=False).plot(kind='bar')\n"
   ]
  },
  {
   "cell_type": "code",
   "execution_count": 90,
   "metadata": {},
   "outputs": [
    {
     "data": {
      "text/plain": [
       "(0    4139\n",
       " 2    3106\n",
       " 3    2315\n",
       " 1     654\n",
       " Name: n_dosis, dtype: int64,\n",
       " 0    40.522812\n",
       " 2    30.409242\n",
       " 3    22.664970\n",
       " 1     6.402976\n",
       " Name: n_dosis, dtype: float64)"
      ]
     },
     "execution_count": 90,
     "metadata": {},
     "output_type": "execute_result"
    }
   ],
   "source": [
    "# Pacientes UCI vacunados con la 1, 2 o 3 dosis\n",
    "\n",
    "filtro_uci = df_main_filtrado['flag_uci'] == 1\n",
    "df_main_filtrado_uci = df_main_filtrado[filtro_uci]\n",
    "\n",
    "filtro_fechas_vacunacion = df_main_filtrado_uci['fecha_ingreso_hosp_dt'] >= datetime.datetime(2021, 2, 25)\n",
    "df_main_filtrado_uci = df_main_filtrado_uci[filtro_fechas_vacunacion]\n",
    "\n",
    "vars_vacuna = ['fecha_dosis1', 'fecha_dosis2', 'fecha_dosis3']\n",
    "\n",
    "# Conteo de numero de dosis\n",
    "df_main_filtrado_uci['n_dosis'] = df_main_filtrado_uci[vars_vacuna].notna().sum(axis=1)\n",
    "# Conteo & porcentaje de pacientes UCI con 0, 1, 2 o 3 dosis \n",
    "df_main_filtrado_uci['n_dosis'].value_counts(), df_main_filtrado_uci['n_dosis'].value_counts(normalize=True) * 100"
   ]
  },
  {
   "cell_type": "code",
   "execution_count": 91,
   "metadata": {},
   "outputs": [
    {
     "name": "stdout",
     "output_type": "stream",
     "text": [
      "Edad promedio de las pacientes UCI:\n"
     ]
    },
    {
     "data": {
      "text/plain": [
       "54.0"
      ]
     },
     "execution_count": 91,
     "metadata": {},
     "output_type": "execute_result"
    }
   ],
   "source": [
    "# Edad promedio de las pacientes UCI\n",
    "print('Edad promedio de las pacientes UCI:')\n",
    "df_main_filtrado[filtro_uci]['edad'].mean().round(0)\n"
   ]
  },
  {
   "cell_type": "code",
   "execution_count": 93,
   "metadata": {},
   "outputs": [
    {
     "name": "stdout",
     "output_type": "stream",
     "text": [
      "Tiempo promedio de recuperación de pacientes UCI recuperados:\n"
     ]
    },
    {
     "data": {
      "text/plain": [
       "Timedelta('23 days 22:39:53.397524071')"
      ]
     },
     "execution_count": 93,
     "metadata": {},
     "output_type": "execute_result"
    }
   ],
   "source": [
    "# Tiempo promedio de recuperación de pacientes UCI recuperados\n",
    "# Muestra: Pacientes que entraron y se recuperaron\n",
    "# Formula: SUM(Fecha de alta medica - Fecha de ingreso UCI para cada paciente) / # pacientes \n",
    "\n",
    "filtro_inicio_pandemia = df_main['fecha_ingreso_hosp_dt'] > datetime.datetime(2020, 3, 6)\n",
    "\n",
    "df_main['fecha_ingreso_uci_dt'] = pd.to_datetime(df_main['fecha_ingreso_uci'], format='%d/%m/%Y')\n",
    "\n",
    "filtro_alta_med = df_main['evolucion_hosp_ultimo'] == 'alta'\n",
    "df_main_filtro_uci_recuperados = df_main[filtro_inicio_pandemia & filtro_uci & filtro_alta_med]\n",
    "\n",
    "tiempo_recuperacion_uci = df_main_filtro_uci_recuperados['fecha_segumiento_hosp_ultimo_dt'] - df_main_filtro_uci_recuperados['fecha_ingreso_uci_dt']\n",
    "print(\"Tiempo promedio de recuperación de pacientes UCI recuperados:\")\n",
    "tiempo_recuperacion_uci.mean()"
   ]
  }
 ],
 "metadata": {
  "interpreter": {
   "hash": "d0acd5c8823bd9cf422a0a0eaf202009da65f19ef99d12ae9a9928c3e725c149"
  },
  "kernelspec": {
   "display_name": "proyectoAnalytics",
   "language": "python",
   "name": "proyectoanalytics"
  },
  "language_info": {
   "codemirror_mode": {
    "name": "ipython",
    "version": 3
   },
   "file_extension": ".py",
   "mimetype": "text/x-python",
   "name": "python",
   "nbconvert_exporter": "python",
   "pygments_lexer": "ipython3",
   "version": "3.8.5"
  },
  "orig_nbformat": 4
 },
 "nbformat": 4,
 "nbformat_minor": 2
}
