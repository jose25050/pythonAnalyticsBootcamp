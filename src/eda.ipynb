{
 "cells": [
  {
   "cell_type": "markdown",
   "metadata": {},
   "source": [
    "## Hola soy un notebook de python de práctica"
   ]
  },
  {
   "cell_type": "code",
   "execution_count": 4,
   "metadata": {},
   "outputs": [],
   "source": [
    "%matplotlib inline"
   ]
  },
  {
   "cell_type": "code",
   "execution_count": 5,
   "metadata": {},
   "outputs": [],
   "source": [
    "import pandas as pd\n",
    "import numpy as np\n",
    "import matplotlib.pyplot as plt\n",
    "import pandas_profiling as ppr\n",
    "import seaborn as sns\n",
    "import geopandas as gpd"
   ]
  },
  {
   "cell_type": "code",
   "execution_count": 6,
   "metadata": {},
   "outputs": [],
   "source": [
    "## Leemos los datos seleccionados\n",
    "df_main = pd.read_csv('../data/TB_HOSP_VAC_FALLECIDOS.csv')\n",
    "df_oxigen = pd.read_csv('../data/Oxigeno_25-10-2021.csv', sep=\"|\")\n",
    "df_camas = pd.read_csv('../data/Camas-08_03_2022.csv', sep=\"|\")"
   ]
  },
  {
   "cell_type": "code",
   "execution_count": 7,
   "metadata": {},
   "outputs": [
    {
     "data": {
      "text/plain": [
       "(135958, 136422)"
      ]
     },
     "execution_count": 7,
     "metadata": {},
     "output_type": "execute_result"
    }
   ],
   "source": [
    "# Validar integridad del identificador único\n",
    "len(df_main['id_persona'].unique()), df_main.shape[0]"
   ]
  },
  {
   "cell_type": "code",
   "execution_count": 8,
   "metadata": {},
   "outputs": [
    {
     "data": {
      "text/plain": [
       "0"
      ]
     },
     "execution_count": 8,
     "metadata": {},
     "output_type": "execute_result"
    }
   ],
   "source": [
    "df_main['id_persona'].isna().sum()"
   ]
  },
  {
   "cell_type": "code",
   "execution_count": 9,
   "metadata": {},
   "outputs": [
    {
     "data": {
      "text/plain": [
       "26422634    3\n",
       "6054506     3\n",
       "29048330    3\n",
       "3820273     2\n",
       "9985143     2\n",
       "Name: id_persona, dtype: int64"
      ]
     },
     "execution_count": 9,
     "metadata": {},
     "output_type": "execute_result"
    }
   ],
   "source": [
    "## conteo de cuantas veces se duplica los id_persona\n",
    "filtro_duplicados = df_main['id_persona'].duplicated(keep=False)\n",
    "df_main[filtro_duplicados]['id_persona'].value_counts().head()"
   ]
  },
  {
   "cell_type": "code",
   "execution_count": 10,
   "metadata": {},
   "outputs": [],
   "source": [
    "# TODO: Crear variable si fue reinfeccion (0, 1)\n",
    "# TODO: Crear variable si con el # de la reinfeccion (1, 2, 3, etc)"
   ]
  },
  {
   "cell_type": "code",
   "execution_count": 11,
   "metadata": {},
   "outputs": [
    {
     "name": "stdout",
     "output_type": "stream",
     "text": [
      "7843\n",
      "5.75 %\n"
     ]
    }
   ],
   "source": [
    "## Número de valores perdidos\n",
    "edad_na_count = df_main['edad'].isna().sum()\n",
    "print(edad_na_count)\n",
    "print(round(edad_na_count / df_main.shape[0] * 100, 2), '%')"
   ]
  },
  {
   "cell_type": "code",
   "execution_count": 12,
   "metadata": {},
   "outputs": [
    {
     "data": {
      "image/png": "[encoded data removed]",
      "text/plain": [
       "<Figure size 432x288 with 1 Axes>"
      ]
     },
     "metadata": {
      "needs_background": "light"
     },
     "output_type": "display_data"
    }
   ],
   "source": [
    "df_main['edad'].hist()\n",
    "plt.show()"
   ]
  },
  {
   "cell_type": "code",
   "execution_count": 13,
   "metadata": {},
   "outputs": [
    {
     "data": {
      "text/plain": [
       "count    128579.000000\n",
       "mean         52.179446\n",
       "std          20.436026\n",
       "min           0.000000\n",
       "25%          37.000000\n",
       "50%          54.000000\n",
       "75%          68.000000\n",
       "max         111.000000\n",
       "Name: edad, dtype: float64"
      ]
     },
     "execution_count": 13,
     "metadata": {},
     "output_type": "execute_result"
    }
   ],
   "source": [
    "df_main[\"edad\"].describe()"
   ]
  },
  {
   "cell_type": "code",
   "execution_count": 14,
   "metadata": {},
   "outputs": [
    {
     "data": {
      "text/plain": [
       "array([  0.        ,  15.85714286,  31.71428571,  47.57142857,\n",
       "        63.42857143,  79.28571429,  95.14285714, 111.        ])"
      ]
     },
     "execution_count": 14,
     "metadata": {},
     "output_type": "execute_result"
    }
   ],
   "source": [
    "counts, bins = np.histogram(df_main[\"edad\"].dropna().values,bins = 7)\n",
    "bins"
   ]
  },
  {
   "cell_type": "code",
   "execution_count": 15,
   "metadata": {},
   "outputs": [
    {
     "data": {
      "text/plain": [
       "(40, 55]     29595\n",
       "(65, 80]     26201\n",
       "(25, 40]     25404\n",
       "(55, 65]     23376\n",
       "(80, 95]      9954\n",
       "(18, 25]      7492\n",
       "(5, 13]       2197\n",
       "(13, 18]      1938\n",
       "(0, 5]        1926\n",
       "(95, 112]      451\n",
       "Name: edad, dtype: int64"
      ]
     },
     "execution_count": 15,
     "metadata": {},
     "output_type": "execute_result"
    }
   ],
   "source": [
    "edad_bins = pd.cut(df_main[\"edad\"], bins = [0,5,13,18,25,40,55,65,80,95,112])\n",
    "\n",
    "edad_bins_counts = edad_bins.value_counts()\n",
    "\n",
    "edad_bins_counts\n"
   ]
  },
  {
   "cell_type": "code",
   "execution_count": 16,
   "metadata": {},
   "outputs": [],
   "source": [
    "df_main[\"edad_bins\"] = edad_bins"
   ]
  },
  {
   "cell_type": "code",
   "execution_count": 17,
   "metadata": {},
   "outputs": [
    {
     "data": {
      "text/plain": [
       "0.05013854070457844"
      ]
     },
     "execution_count": 17,
     "metadata": {},
     "output_type": "execute_result"
    }
   ],
   "source": [
    "df_main[\"sexo\"].isna().sum() / df_main.shape[0]"
   ]
  },
  {
   "cell_type": "code",
   "execution_count": 18,
   "metadata": {},
   "outputs": [
    {
     "data": {
      "text/plain": [
       "(M    69149\n",
       " F    60433\n",
       " Name: sexo, dtype: int64,\n",
       " M    0.533631\n",
       " F    0.466369\n",
       " Name: sexo, dtype: float64)"
      ]
     },
     "execution_count": 18,
     "metadata": {},
     "output_type": "execute_result"
    }
   ],
   "source": [
    "df_main[\"sexo\"].value_counts(), df_main[\"sexo\"].value_counts(normalize= True)"
   ]
  },
  {
   "cell_type": "code",
   "execution_count": 19,
   "metadata": {},
   "outputs": [
    {
     "data": {
      "text/plain": [
       "edad_bins  sexo\n",
       "(0, 5]     F         850\n",
       "           M        1076\n",
       "(5, 13]    F         927\n",
       "           M        1270\n",
       "(13, 18]   F        1310\n",
       "           M         628\n",
       "(18, 25]   F        5866\n",
       "           M        1597\n",
       "(25, 40]   F       15891\n",
       "           M        9303\n",
       "(40, 55]   F       11255\n",
       "           M       18232\n",
       "(55, 65]   F        8820\n",
       "           M       14509\n",
       "(65, 80]   F       10327\n",
       "           M       15849\n",
       "(80, 95]   F        4383\n",
       "           M        5567\n",
       "(95, 112]  F         242\n",
       "           M         209\n",
       "dtype: int64"
      ]
     },
     "execution_count": 19,
     "metadata": {},
     "output_type": "execute_result"
    }
   ],
   "source": [
    "conteo_edad_x_sexo = (df_main[[\"edad_bins\",\"sexo\"]].dropna() ## selecion de columns y elimino NaNs\n",
    "                    .groupby([\"edad_bins\",\"sexo\"]).size() )# agrupo y cuento las obs. por intervalo de edad y sexo\n",
    "\n",
    "conteo_edad_x_sexo\n"
   ]
  },
  {
   "cell_type": "code",
   "execution_count": 20,
   "metadata": {},
   "outputs": [
    {
     "data": {
      "text/plain": [
       "<seaborn.axisgrid.FacetGrid at 0x235db55cc10>"
      ]
     },
     "execution_count": 20,
     "metadata": {},
     "output_type": "execute_result"
    },
    {
     "data": {
      "image/png": "[encoded data removed]",
      "text/plain": [
       "<Figure size 476.625x432 with 1 Axes>"
      ]
     },
     "metadata": {
      "needs_background": "light"
     },
     "output_type": "display_data"
    }
   ],
   "source": [
    "## gráfica de barras de cantidad de personas por intervalo de edad por género\n",
    "\n",
    "g = sns.catplot(\n",
    "    data=conteo_edad_x_sexo.reset_index().rename(columns={0: \"conteo\"}),\n",
    "     kind=\"bar\",\n",
    "    x=\"edad_bins\", y=\"conteo\", hue=\"sexo\",\n",
    "    ci=\"sd\", palette=\"dark\", alpha=.6, height=6\n",
    ")\n",
    "g.set_xticklabels(rotation = 90)"
   ]
  },
  {
   "cell_type": "code",
   "execution_count": 21,
   "metadata": {},
   "outputs": [
    {
     "data": {
      "text/plain": [
       "ubigeo_inei_domicilio    0\n",
       "dep_domicilio            0\n",
       "prov_domicilio           0\n",
       "dist_domicilio           0\n",
       "dtype: int64"
      ]
     },
     "execution_count": 21,
     "metadata": {},
     "output_type": "execute_result"
    }
   ],
   "source": [
    "geo_vars = ['ubigeo_inei_domicilio', 'dep_domicilio', 'prov_domicilio',\n",
    "       'dist_domicilio']\n",
    "df_main[geo_vars].isna().sum()"
   ]
  },
  {
   "cell_type": "code",
   "execution_count": 22,
   "metadata": {},
   "outputs": [],
   "source": [
    "df_main['ubigeo_inei_domicilio'] = df_main['ubigeo_inei_domicilio'].astype(str)"
   ]
  },
  {
   "cell_type": "code",
   "execution_count": 23,
   "metadata": {},
   "outputs": [
    {
     "data": {
      "text/plain": [
       "ubigeo_inei_domicilio    object\n",
       "dep_domicilio            object\n",
       "prov_domicilio           object\n",
       "dist_domicilio           object\n",
       "dtype: object"
      ]
     },
     "execution_count": 23,
     "metadata": {},
     "output_type": "execute_result"
    }
   ],
   "source": [
    "df_main[geo_vars].dtypes"
   ]
  },
  {
   "cell_type": "code",
   "execution_count": 24,
   "metadata": {},
   "outputs": [
    {
     "data": {
      "text/html": [
       "<div>\n",
       "<style scoped>\n",
       "    .dataframe tbody tr th:only-of-type {\n",
       "        vertical-align: middle;\n",
       "    }\n",
       "\n",
       "    .dataframe tbody tr th {\n",
       "        vertical-align: top;\n",
       "    }\n",
       "\n",
       "    .dataframe thead th {\n",
       "        text-align: right;\n",
       "    }\n",
       "</style>\n",
       "<table border=\"1\" class=\"dataframe\">\n",
       "  <thead>\n",
       "    <tr style=\"text-align: right;\">\n",
       "      <th></th>\n",
       "      <th>ubigeo_inei_domicilio</th>\n",
       "      <th>dep_domicilio</th>\n",
       "      <th>prov_domicilio</th>\n",
       "      <th>dist_domicilio</th>\n",
       "    </tr>\n",
       "  </thead>\n",
       "  <tbody>\n",
       "    <tr>\n",
       "      <th>count</th>\n",
       "      <td>136422</td>\n",
       "      <td>136422</td>\n",
       "      <td>136422</td>\n",
       "      <td>136422</td>\n",
       "    </tr>\n",
       "    <tr>\n",
       "      <th>unique</th>\n",
       "      <td>1716</td>\n",
       "      <td>25</td>\n",
       "      <td>196</td>\n",
       "      <td>1580</td>\n",
       "    </tr>\n",
       "    <tr>\n",
       "      <th>top</th>\n",
       "      <td>150142</td>\n",
       "      <td>LIMA</td>\n",
       "      <td>LIMA</td>\n",
       "      <td>VILLA EL SALVADOR</td>\n",
       "    </tr>\n",
       "    <tr>\n",
       "      <th>freq</th>\n",
       "      <td>7156</td>\n",
       "      <td>50719</td>\n",
       "      <td>46309</td>\n",
       "      <td>7156</td>\n",
       "    </tr>\n",
       "  </tbody>\n",
       "</table>\n",
       "</div>"
      ],
      "text/plain": [
       "       ubigeo_inei_domicilio dep_domicilio prov_domicilio     dist_domicilio\n",
       "count                 136422        136422         136422             136422\n",
       "unique                  1716            25            196               1580\n",
       "top                   150142          LIMA           LIMA  VILLA EL SALVADOR\n",
       "freq                    7156         50719          46309               7156"
      ]
     },
     "execution_count": 24,
     "metadata": {},
     "output_type": "execute_result"
    }
   ],
   "source": [
    "df_main[geo_vars].describe()"
   ]
  },
  {
   "cell_type": "markdown",
   "metadata": {},
   "source": [
    "**Manejando datos geoespaciales**"
   ]
  },
  {
   "cell_type": "code",
   "execution_count": 26,
   "metadata": {},
   "outputs": [],
   "source": [
    "gdf_deps = gpd.read_file('../data/departamentos/DEPARTAMENTOS.shp')"
   ]
  },
  {
   "cell_type": "code",
   "execution_count": 28,
   "metadata": {},
   "outputs": [
    {
     "data": {
      "text/plain": [
       "<AxesSubplot:>"
      ]
     },
     "execution_count": 28,
     "metadata": {},
     "output_type": "execute_result"
    },
    {
     "data": {
      "image/png": "[encoded data removed]",
      "text/plain": [
       "<Figure size 432x288 with 1 Axes>"
      ]
     },
     "metadata": {
      "needs_background": "light"
     },
     "output_type": "display_data"
    }
   ],
   "source": [
    "gdf_deps.plot()"
   ]
  }
 ],
 "metadata": {
  "interpreter": {
   "hash": "d0acd5c8823bd9cf422a0a0eaf202009da65f19ef99d12ae9a9928c3e725c149"
  },
  "kernelspec": {
   "display_name": "proyectoAnalytics",
   "language": "python",
   "name": "proyectoanalytics"
  },
  "language_info": {
   "codemirror_mode": {
    "name": "ipython",
    "version": 3
   },
   "file_extension": ".py",
   "mimetype": "text/x-python",
   "name": "python",
   "nbconvert_exporter": "python",
   "pygments_lexer": "ipython3",
   "version": "3.8.5"
  },
  "orig_nbformat": 4
 },
 "nbformat": 4,
 "nbformat_minor": 2
}
